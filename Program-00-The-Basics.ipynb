{
 "cells": [
  {
   "cell_type": "code",
   "execution_count": 1,
   "metadata": {},
   "outputs": [
    {
     "data": {
      "text/plain": [
       "datetime.datetime(2020, 12, 17, 8, 5, 16, 342333)"
      ]
     },
     "execution_count": 1,
     "metadata": {},
     "output_type": "execute_result"
    }
   ],
   "source": [
    "#---------------------------------\n",
    "# Print current time\n",
    "#---------------------------------\n",
    "import datetime\n",
    "\n",
    "datetime.datetime.now()\n"
   ]
  },
  {
   "cell_type": "code",
   "execution_count": 3,
   "metadata": {},
   "outputs": [
    {
     "name": "stdout",
     "output_type": "stream",
     "text": [
      "The date and time is\n",
      "2020-12-17 08:18:17.176104\n"
     ]
    }
   ],
   "source": [
    "#---------------------------------\n",
    "# Print current time\n",
    "#---------------------------------\n",
    "import datetime\n",
    "print (\"The date and time is\")\n",
    "print (datetime.datetime.now())"
   ]
  },
  {
   "cell_type": "code",
   "execution_count": 4,
   "metadata": {},
   "outputs": [
    {
     "name": "stdout",
     "output_type": "stream",
     "text": [
      "The date and time is 2020-12-17 08:19:12.241194\n"
     ]
    }
   ],
   "source": [
    "#---------------------------------\n",
    "# Print current time - same line\n",
    "#---------------------------------\n",
    "import datetime\n",
    "print (\"The date and time is\", datetime.datetime.now())"
   ]
  },
  {
   "cell_type": "markdown",
   "metadata": {},
   "source": [
    "#### Variables"
   ]
  },
  {
   "cell_type": "code",
   "execution_count": 5,
   "metadata": {},
   "outputs": [
    {
     "name": "stdout",
     "output_type": "stream",
     "text": [
      "2020-12-17 08:22:20.591049\n"
     ]
    }
   ],
   "source": [
    "mynow = datetime.datetime.now()\n",
    "print (mynow)"
   ]
  },
  {
   "cell_type": "code",
   "execution_count": 7,
   "metadata": {},
   "outputs": [
    {
     "name": "stdout",
     "output_type": "stream",
     "text": [
      "10 Hello\n"
     ]
    }
   ],
   "source": [
    "mynumber = 10\n",
    "mytext = \"Hello\"\n",
    "print (mynumber, mytext)"
   ]
  },
  {
   "cell_type": "code",
   "execution_count": 8,
   "metadata": {},
   "outputs": [
    {
     "name": "stdout",
     "output_type": "stream",
     "text": [
      "20 1010\n"
     ]
    }
   ],
   "source": [
    "x = 10\n",
    "y = \"10\"\n",
    "\n",
    "sum1 = x + x\n",
    "sum2 = y + y\n",
    "print (sum1, sum2)"
   ]
  },
  {
   "cell_type": "markdown",
   "metadata": {},
   "source": [
    "x = 10\n",
    "y = \"10\"\n",
    "z = 10.1\n",
    "\n",
    "sum1 = x + x\n",
    "sum2 = y + y\n",
    "print (sum1, sum2)\n",
    "print (type(x), type(y), type(z))"
   ]
  },
  {
   "cell_type": "code",
   "execution_count": 10,
   "metadata": {},
   "outputs": [],
   "source": [
    "#--------------------------------------\n",
    "#  List variables - use brackets []\n",
    "#--------------------------------------\n",
    "student_grades = [9.1, 8.8, 7.5]"
   ]
  },
  {
   "cell_type": "code",
   "execution_count": 11,
   "metadata": {},
   "outputs": [
    {
     "data": {
      "text/plain": [
       "[1, 2, 3, 4, 5, 6, 7, 8, 9]"
      ]
     },
     "execution_count": 11,
     "metadata": {},
     "output_type": "execute_result"
    }
   ],
   "source": [
    "list(range(1, 10))"
   ]
  },
  {
   "cell_type": "code",
   "execution_count": 12,
   "metadata": {},
   "outputs": [
    {
     "data": {
      "text/plain": [
       "[1, 3, 5, 7, 9]"
      ]
     },
     "execution_count": 12,
     "metadata": {},
     "output_type": "execute_result"
    }
   ],
   "source": [
    "list(range(1, 10, 2))"
   ]
  },
  {
   "cell_type": "code",
   "execution_count": null,
   "metadata": {},
   "outputs": [],
   "source": [
    "#--------------------------------------\n",
    "#  List variables - use brackets []\n",
    "#--------------------------------------\n",
    "student_grades = [9.1, 8.8, 7.5]\n"
   ]
  },
  {
   "cell_type": "code",
   "execution_count": 13,
   "metadata": {},
   "outputs": [
    {
     "data": {
      "text/plain": [
       "['__add__',\n",
       " '__class__',\n",
       " '__contains__',\n",
       " '__delattr__',\n",
       " '__delitem__',\n",
       " '__dir__',\n",
       " '__doc__',\n",
       " '__eq__',\n",
       " '__format__',\n",
       " '__ge__',\n",
       " '__getattribute__',\n",
       " '__getitem__',\n",
       " '__gt__',\n",
       " '__hash__',\n",
       " '__iadd__',\n",
       " '__imul__',\n",
       " '__init__',\n",
       " '__init_subclass__',\n",
       " '__iter__',\n",
       " '__le__',\n",
       " '__len__',\n",
       " '__lt__',\n",
       " '__mul__',\n",
       " '__ne__',\n",
       " '__new__',\n",
       " '__reduce__',\n",
       " '__reduce_ex__',\n",
       " '__repr__',\n",
       " '__reversed__',\n",
       " '__rmul__',\n",
       " '__setattr__',\n",
       " '__setitem__',\n",
       " '__sizeof__',\n",
       " '__str__',\n",
       " '__subclasshook__',\n",
       " 'append',\n",
       " 'clear',\n",
       " 'copy',\n",
       " 'count',\n",
       " 'extend',\n",
       " 'index',\n",
       " 'insert',\n",
       " 'pop',\n",
       " 'remove',\n",
       " 'reverse',\n",
       " 'sort']"
      ]
     },
     "execution_count": 13,
     "metadata": {},
     "output_type": "execute_result"
    }
   ],
   "source": [
    "#-----------------------------------------------------------\n",
    "#  Get a list (directory) of everything a command can do\n",
    "#-----------------------------------------------------------\n",
    "dir(list)"
   ]
  },
  {
   "cell_type": "code",
   "execution_count": 14,
   "metadata": {},
   "outputs": [
    {
     "data": {
      "text/plain": [
       "['__add__',\n",
       " '__class__',\n",
       " '__contains__',\n",
       " '__delattr__',\n",
       " '__dir__',\n",
       " '__doc__',\n",
       " '__eq__',\n",
       " '__format__',\n",
       " '__ge__',\n",
       " '__getattribute__',\n",
       " '__getitem__',\n",
       " '__getnewargs__',\n",
       " '__gt__',\n",
       " '__hash__',\n",
       " '__init__',\n",
       " '__init_subclass__',\n",
       " '__iter__',\n",
       " '__le__',\n",
       " '__len__',\n",
       " '__lt__',\n",
       " '__mod__',\n",
       " '__mul__',\n",
       " '__ne__',\n",
       " '__new__',\n",
       " '__reduce__',\n",
       " '__reduce_ex__',\n",
       " '__repr__',\n",
       " '__rmod__',\n",
       " '__rmul__',\n",
       " '__setattr__',\n",
       " '__sizeof__',\n",
       " '__str__',\n",
       " '__subclasshook__',\n",
       " 'capitalize',\n",
       " 'casefold',\n",
       " 'center',\n",
       " 'count',\n",
       " 'encode',\n",
       " 'endswith',\n",
       " 'expandtabs',\n",
       " 'find',\n",
       " 'format',\n",
       " 'format_map',\n",
       " 'index',\n",
       " 'isalnum',\n",
       " 'isalpha',\n",
       " 'isascii',\n",
       " 'isdecimal',\n",
       " 'isdigit',\n",
       " 'isidentifier',\n",
       " 'islower',\n",
       " 'isnumeric',\n",
       " 'isprintable',\n",
       " 'isspace',\n",
       " 'istitle',\n",
       " 'isupper',\n",
       " 'join',\n",
       " 'ljust',\n",
       " 'lower',\n",
       " 'lstrip',\n",
       " 'maketrans',\n",
       " 'partition',\n",
       " 'replace',\n",
       " 'rfind',\n",
       " 'rindex',\n",
       " 'rjust',\n",
       " 'rpartition',\n",
       " 'rsplit',\n",
       " 'rstrip',\n",
       " 'split',\n",
       " 'splitlines',\n",
       " 'startswith',\n",
       " 'strip',\n",
       " 'swapcase',\n",
       " 'title',\n",
       " 'translate',\n",
       " 'upper',\n",
       " 'zfill']"
      ]
     },
     "execution_count": 14,
     "metadata": {},
     "output_type": "execute_result"
    }
   ],
   "source": [
    "dir(str)"
   ]
  },
  {
   "cell_type": "code",
   "execution_count": 15,
   "metadata": {},
   "outputs": [
    {
     "name": "stdout",
     "output_type": "stream",
     "text": [
      "Help on method_descriptor:\n",
      "\n",
      "upper(self, /)\n",
      "    Return a copy of the string converted to uppercase.\n",
      "\n"
     ]
    }
   ],
   "source": [
    "#-----------------------------------------------------------------\n",
    "#  Get help on a specific attribute or method of str\n",
    "#\n",
    "#  Help will tell you if it is a method or an attribute\n",
    "#  - Methods are invoked with paranthesis ()\n",
    "#-----------------------------------------------------------------\n",
    "help(str.upper)"
   ]
  },
  {
   "cell_type": "code",
   "execution_count": 16,
   "metadata": {},
   "outputs": [
    {
     "data": {
      "text/plain": [
       "'HELLO'"
      ]
     },
     "execution_count": 16,
     "metadata": {},
     "output_type": "execute_result"
    }
   ],
   "source": [
    "\"hello\".upper()"
   ]
  },
  {
   "cell_type": "code",
   "execution_count": 17,
   "metadata": {},
   "outputs": [
    {
     "data": {
      "text/plain": [
       "'Hello'"
      ]
     },
     "execution_count": 17,
     "metadata": {},
     "output_type": "execute_result"
    }
   ],
   "source": [
    "\"hello\".title()"
   ]
  },
  {
   "cell_type": "code",
   "execution_count": 18,
   "metadata": {},
   "outputs": [
    {
     "data": {
      "text/plain": [
       "'Hello'"
      ]
     },
     "execution_count": 18,
     "metadata": {},
     "output_type": "execute_result"
    }
   ],
   "source": [
    "myword = \"hello\"\n",
    "myword.title()"
   ]
  },
  {
   "cell_type": "code",
   "execution_count": null,
   "metadata": {},
   "outputs": [],
   "source": [
    "#--------------------------------------\n",
    "#  List variables - use brackets []\n",
    "#--------------------------------------\n",
    "student_grades = [9.1, 8.8, 7.5]\n"
   ]
  },
  {
   "cell_type": "code",
   "execution_count": 19,
   "metadata": {},
   "outputs": [
    {
     "data": {
      "text/plain": [
       "['__add__',\n",
       " '__class__',\n",
       " '__contains__',\n",
       " '__delattr__',\n",
       " '__delitem__',\n",
       " '__dir__',\n",
       " '__doc__',\n",
       " '__eq__',\n",
       " '__format__',\n",
       " '__ge__',\n",
       " '__getattribute__',\n",
       " '__getitem__',\n",
       " '__gt__',\n",
       " '__hash__',\n",
       " '__iadd__',\n",
       " '__imul__',\n",
       " '__init__',\n",
       " '__init_subclass__',\n",
       " '__iter__',\n",
       " '__le__',\n",
       " '__len__',\n",
       " '__lt__',\n",
       " '__mul__',\n",
       " '__ne__',\n",
       " '__new__',\n",
       " '__reduce__',\n",
       " '__reduce_ex__',\n",
       " '__repr__',\n",
       " '__reversed__',\n",
       " '__rmul__',\n",
       " '__setattr__',\n",
       " '__setitem__',\n",
       " '__sizeof__',\n",
       " '__str__',\n",
       " '__subclasshook__',\n",
       " 'append',\n",
       " 'clear',\n",
       " 'copy',\n",
       " 'count',\n",
       " 'extend',\n",
       " 'index',\n",
       " 'insert',\n",
       " 'pop',\n",
       " 'remove',\n",
       " 'reverse',\n",
       " 'sort']"
      ]
     },
     "execution_count": 19,
     "metadata": {},
     "output_type": "execute_result"
    }
   ],
   "source": [
    "dir(list)"
   ]
  },
  {
   "cell_type": "code",
   "execution_count": 20,
   "metadata": {},
   "outputs": [
    {
     "data": {
      "text/plain": [
       "['ArithmeticError',\n",
       " 'AssertionError',\n",
       " 'AttributeError',\n",
       " 'BaseException',\n",
       " 'BlockingIOError',\n",
       " 'BrokenPipeError',\n",
       " 'BufferError',\n",
       " 'BytesWarning',\n",
       " 'ChildProcessError',\n",
       " 'ConnectionAbortedError',\n",
       " 'ConnectionError',\n",
       " 'ConnectionRefusedError',\n",
       " 'ConnectionResetError',\n",
       " 'DeprecationWarning',\n",
       " 'EOFError',\n",
       " 'Ellipsis',\n",
       " 'EnvironmentError',\n",
       " 'Exception',\n",
       " 'False',\n",
       " 'FileExistsError',\n",
       " 'FileNotFoundError',\n",
       " 'FloatingPointError',\n",
       " 'FutureWarning',\n",
       " 'GeneratorExit',\n",
       " 'IOError',\n",
       " 'ImportError',\n",
       " 'ImportWarning',\n",
       " 'IndentationError',\n",
       " 'IndexError',\n",
       " 'InterruptedError',\n",
       " 'IsADirectoryError',\n",
       " 'KeyError',\n",
       " 'KeyboardInterrupt',\n",
       " 'LookupError',\n",
       " 'MemoryError',\n",
       " 'ModuleNotFoundError',\n",
       " 'NameError',\n",
       " 'None',\n",
       " 'NotADirectoryError',\n",
       " 'NotImplemented',\n",
       " 'NotImplementedError',\n",
       " 'OSError',\n",
       " 'OverflowError',\n",
       " 'PendingDeprecationWarning',\n",
       " 'PermissionError',\n",
       " 'ProcessLookupError',\n",
       " 'RecursionError',\n",
       " 'ReferenceError',\n",
       " 'ResourceWarning',\n",
       " 'RuntimeError',\n",
       " 'RuntimeWarning',\n",
       " 'StopAsyncIteration',\n",
       " 'StopIteration',\n",
       " 'SyntaxError',\n",
       " 'SyntaxWarning',\n",
       " 'SystemError',\n",
       " 'SystemExit',\n",
       " 'TabError',\n",
       " 'TimeoutError',\n",
       " 'True',\n",
       " 'TypeError',\n",
       " 'UnboundLocalError',\n",
       " 'UnicodeDecodeError',\n",
       " 'UnicodeEncodeError',\n",
       " 'UnicodeError',\n",
       " 'UnicodeTranslateError',\n",
       " 'UnicodeWarning',\n",
       " 'UserWarning',\n",
       " 'ValueError',\n",
       " 'Warning',\n",
       " 'WindowsError',\n",
       " 'ZeroDivisionError',\n",
       " '__IPYTHON__',\n",
       " '__build_class__',\n",
       " '__debug__',\n",
       " '__doc__',\n",
       " '__import__',\n",
       " '__loader__',\n",
       " '__name__',\n",
       " '__package__',\n",
       " '__spec__',\n",
       " 'abs',\n",
       " 'all',\n",
       " 'any',\n",
       " 'ascii',\n",
       " 'bin',\n",
       " 'bool',\n",
       " 'breakpoint',\n",
       " 'bytearray',\n",
       " 'bytes',\n",
       " 'callable',\n",
       " 'chr',\n",
       " 'classmethod',\n",
       " 'compile',\n",
       " 'complex',\n",
       " 'copyright',\n",
       " 'credits',\n",
       " 'delattr',\n",
       " 'dict',\n",
       " 'dir',\n",
       " 'display',\n",
       " 'divmod',\n",
       " 'enumerate',\n",
       " 'eval',\n",
       " 'exec',\n",
       " 'filter',\n",
       " 'float',\n",
       " 'format',\n",
       " 'frozenset',\n",
       " 'get_ipython',\n",
       " 'getattr',\n",
       " 'globals',\n",
       " 'hasattr',\n",
       " 'hash',\n",
       " 'help',\n",
       " 'hex',\n",
       " 'id',\n",
       " 'input',\n",
       " 'int',\n",
       " 'isinstance',\n",
       " 'issubclass',\n",
       " 'iter',\n",
       " 'len',\n",
       " 'license',\n",
       " 'list',\n",
       " 'locals',\n",
       " 'map',\n",
       " 'max',\n",
       " 'memoryview',\n",
       " 'min',\n",
       " 'next',\n",
       " 'object',\n",
       " 'oct',\n",
       " 'open',\n",
       " 'ord',\n",
       " 'pow',\n",
       " 'print',\n",
       " 'property',\n",
       " 'range',\n",
       " 'repr',\n",
       " 'reversed',\n",
       " 'round',\n",
       " 'set',\n",
       " 'setattr',\n",
       " 'slice',\n",
       " 'sorted',\n",
       " 'staticmethod',\n",
       " 'str',\n",
       " 'sum',\n",
       " 'super',\n",
       " 'tuple',\n",
       " 'type',\n",
       " 'vars',\n",
       " 'zip']"
      ]
     },
     "execution_count": 20,
     "metadata": {},
     "output_type": "execute_result"
    }
   ],
   "source": [
    "#----------------------------------------------------------\n",
    "#  Calculate the Mean or Average of a List\n",
    "#----------------------------------------------------------\n",
    "\n",
    "# Get list of all built-in functions of base Python\n",
    "dir(__builtins__)"
   ]
  },
  {
   "cell_type": "code",
   "execution_count": 21,
   "metadata": {},
   "outputs": [
    {
     "name": "stdout",
     "output_type": "stream",
     "text": [
      "Help on built-in function len in module builtins:\n",
      "\n",
      "len(obj, /)\n",
      "    Return the number of items in a container.\n",
      "\n"
     ]
    }
   ],
   "source": [
    "help(len)"
   ]
  },
  {
   "cell_type": "code",
   "execution_count": 22,
   "metadata": {},
   "outputs": [
    {
     "name": "stdout",
     "output_type": "stream",
     "text": [
      "Average student grades: 8.466666666666667\n"
     ]
    }
   ],
   "source": [
    "mysum = sum(student_grades)\n",
    "length = len(student_grades)\n",
    "myavg = mysum / length\n",
    "print (\"Average student grades:\", myavg)"
   ]
  },
  {
   "cell_type": "code",
   "execution_count": 23,
   "metadata": {},
   "outputs": [
    {
     "name": "stdout",
     "output_type": "stream",
     "text": [
      "Help on built-in function max in module builtins:\n",
      "\n",
      "max(...)\n",
      "    max(iterable, *[, default=obj, key=func]) -> value\n",
      "    max(arg1, arg2, *args, *[, key=func]) -> value\n",
      "    \n",
      "    With a single iterable argument, return its biggest item. The\n",
      "    default keyword-only argument specifies an object to return if\n",
      "    the provided iterable is empty.\n",
      "    With two or more arguments, return the largest argument.\n",
      "\n"
     ]
    }
   ],
   "source": [
    "help(max)\n"
   ]
  },
  {
   "cell_type": "code",
   "execution_count": 26,
   "metadata": {},
   "outputs": [
    {
     "name": "stdout",
     "output_type": "stream",
     "text": [
      "9.1\n"
     ]
    }
   ],
   "source": [
    "max_value = max(student_grades)\n",
    "print (max_value)"
   ]
  },
  {
   "cell_type": "code",
   "execution_count": 28,
   "metadata": {},
   "outputs": [
    {
     "ename": "NameError",
     "evalue": "name 'count' is not defined",
     "output_type": "error",
     "traceback": [
      "\u001b[1;31m---------------------------------------------------------------------------\u001b[0m",
      "\u001b[1;31mNameError\u001b[0m                                 Traceback (most recent call last)",
      "\u001b[1;32m<ipython-input-28-9dbe85a0224b>\u001b[0m in \u001b[0;36m<module>\u001b[1;34m\u001b[0m\n\u001b[1;32m----> 1\u001b[1;33m \u001b[0mhelp\u001b[0m\u001b[1;33m(\u001b[0m\u001b[0mcount\u001b[0m\u001b[1;33m)\u001b[0m\u001b[1;33m\u001b[0m\u001b[1;33m\u001b[0m\u001b[0m\n\u001b[0m",
      "\u001b[1;31mNameError\u001b[0m: name 'count' is not defined"
     ]
    }
   ],
   "source": [
    "help(count)"
   ]
  },
  {
   "cell_type": "code",
   "execution_count": 27,
   "metadata": {},
   "outputs": [
    {
     "name": "stdout",
     "output_type": "stream",
     "text": [
      "10\n"
     ]
    }
   ],
   "source": [
    "student_grades = [9.1, 8.8, 10.0, 7.7, 6.8, 8.0, 10.0, 8.1, 10.0, 9.9]\n",
    "student_len = len(student_grades)\n",
    "print (student_len)"
   ]
  },
  {
   "cell_type": "code",
   "execution_count": 29,
   "metadata": {},
   "outputs": [
    {
     "name": "stdout",
     "output_type": "stream",
     "text": [
      "3\n"
     ]
    }
   ],
   "source": [
    "num_10 = student_grades.count(10)\n",
    "print (num_10)"
   ]
  },
  {
   "cell_type": "code",
   "execution_count": 30,
   "metadata": {},
   "outputs": [
    {
     "name": "stdout",
     "output_type": "stream",
     "text": [
      "python3\n"
     ]
    }
   ],
   "source": [
    "username = \"Python3\"\n",
    "print(username.lower())"
   ]
  },
  {
   "cell_type": "code",
   "execution_count": 349,
   "metadata": {},
   "outputs": [
    {
     "name": "stdout",
     "output_type": "stream",
     "text": [
      "25.4\n"
     ]
    }
   ],
   "source": [
    "#---------------------------------------------\n",
    "# Dictionary data structure - Use {}\n",
    "#---------------------------------------------\n",
    "student_grades = {'Marry': 9.1, 'Sim': 8.8, 'John': 7.5}\n",
    "mysum = sum(student_grades.values())\n",
    "print(mysum)"
   ]
  },
  {
   "cell_type": "code",
   "execution_count": 36,
   "metadata": {},
   "outputs": [
    {
     "name": "stdout",
     "output_type": "stream",
     "text": [
      "dict_values([9.1, 8.8, 7.5])\n",
      "dict_keys(['Marry', 'Sim', 'John'])\n"
     ]
    }
   ],
   "source": [
    "print(student_grades.values())\n",
    "\n",
    "print(student_grades.keys())"
   ]
  },
  {
   "cell_type": "code",
   "execution_count": 34,
   "metadata": {},
   "outputs": [
    {
     "name": "stdout",
     "output_type": "stream",
     "text": [
      "Help on method_descriptor:\n",
      "\n",
      "values(...)\n",
      "    D.values() -> an object providing a view on D's values\n",
      "\n"
     ]
    }
   ],
   "source": [
    "#dir(dict)\n",
    "help(dict.values)"
   ]
  },
  {
   "cell_type": "code",
   "execution_count": 37,
   "metadata": {},
   "outputs": [
    {
     "name": "stdout",
     "output_type": "stream",
     "text": [
      "(1, 4, 5)\n"
     ]
    }
   ],
   "source": [
    "#---------------------------------------------\n",
    "#  Tuples\n",
    "#\n",
    "#  Tuples are immutable\n",
    "#  Lists are mutable, where you can append new values or remove values\n",
    "#---------------------------------------------\n",
    "monday_temperatures = (1, 4, 5)\n",
    "print(monday_temperatures)"
   ]
  },
  {
   "cell_type": "code",
   "execution_count": null,
   "metadata": {},
   "outputs": [],
   "source": [
    "#--------------------------------------------------\n",
    "#  Dictionay with Tuples as values\n",
    "#--------------------------------------------------\n",
    "day_temperatures = {'morning': (11.1, 12.2, 13.3), 'noon': (20.1, 22.2, 24.4), 'evening': (5.0, 6.1, 8.1)}"
   ]
  },
  {
   "cell_type": "code",
   "execution_count": 38,
   "metadata": {},
   "outputs": [
    {
     "data": {
      "text/plain": [
       "['__add__',\n",
       " '__class__',\n",
       " '__contains__',\n",
       " '__delattr__',\n",
       " '__delitem__',\n",
       " '__dir__',\n",
       " '__doc__',\n",
       " '__eq__',\n",
       " '__format__',\n",
       " '__ge__',\n",
       " '__getattribute__',\n",
       " '__getitem__',\n",
       " '__gt__',\n",
       " '__hash__',\n",
       " '__iadd__',\n",
       " '__imul__',\n",
       " '__init__',\n",
       " '__init_subclass__',\n",
       " '__iter__',\n",
       " '__le__',\n",
       " '__len__',\n",
       " '__lt__',\n",
       " '__mul__',\n",
       " '__ne__',\n",
       " '__new__',\n",
       " '__reduce__',\n",
       " '__reduce_ex__',\n",
       " '__repr__',\n",
       " '__reversed__',\n",
       " '__rmul__',\n",
       " '__setattr__',\n",
       " '__setitem__',\n",
       " '__sizeof__',\n",
       " '__str__',\n",
       " '__subclasshook__',\n",
       " 'append',\n",
       " 'clear',\n",
       " 'copy',\n",
       " 'count',\n",
       " 'extend',\n",
       " 'index',\n",
       " 'insert',\n",
       " 'pop',\n",
       " 'remove',\n",
       " 'reverse',\n",
       " 'sort']"
      ]
     },
     "execution_count": 38,
     "metadata": {},
     "output_type": "execute_result"
    }
   ],
   "source": [
    "#----------------------------------------------------------------------------------------\n",
    "# Attributes beginning and ending with two underscires are raley used by developers,\n",
    "# they are basically internal attributes used by Pyrhon.\n",
    "#----------------------------------------------------------------------------------------\n",
    "\n",
    "dir(list)"
   ]
  },
  {
   "cell_type": "code",
   "execution_count": 41,
   "metadata": {},
   "outputs": [
    {
     "name": "stdout",
     "output_type": "stream",
     "text": [
      "Help on method_descriptor:\n",
      "\n",
      "append(self, object, /)\n",
      "    Append object to the end of the list.\n",
      "\n"
     ]
    }
   ],
   "source": [
    "help (list.append)\n",
    "#\n",
    "# self can be ignored, self refers to the list itself, and object is what you want to append."
   ]
  },
  {
   "cell_type": "code",
   "execution_count": 51,
   "metadata": {},
   "outputs": [
    {
     "name": "stdout",
     "output_type": "stream",
     "text": [
      "Help on method_descriptor:\n",
      "\n",
      "remove(self, value, /)\n",
      "    Remove first occurrence of value.\n",
      "    \n",
      "    Raises ValueError if the value is not present.\n",
      "\n"
     ]
    }
   ],
   "source": [
    "help(list.remove)"
   ]
  },
  {
   "cell_type": "code",
   "execution_count": 42,
   "metadata": {},
   "outputs": [
    {
     "data": {
      "text/plain": [
       "[9.1, 8, 8, 7, 5, 8.1]"
      ]
     },
     "execution_count": 42,
     "metadata": {},
     "output_type": "execute_result"
    }
   ],
   "source": [
    "#--------------------------------------------------\n",
    "# List methods\n",
    "#  .append()\n",
    "#--------------------------------------------------\n",
    "monday_temperatures = [9.1, 8,8, 7,5]\n",
    "monday_temperatures.append(8.1)\n",
    "monday_temperatures\n"
   ]
  },
  {
   "cell_type": "code",
   "execution_count": 44,
   "metadata": {},
   "outputs": [
    {
     "data": {
      "text/plain": [
       "[]"
      ]
     },
     "execution_count": 44,
     "metadata": {},
     "output_type": "execute_result"
    }
   ],
   "source": [
    "#--------------------------------------------------\n",
    "# List methods -remember methods need ()\n",
    "#  .clear()\n",
    "#--------------------------------------------------\n",
    "monday_temperatures.clear()\n",
    "monday_temperatures"
   ]
  },
  {
   "cell_type": "code",
   "execution_count": 45,
   "metadata": {},
   "outputs": [
    {
     "name": "stdout",
     "output_type": "stream",
     "text": [
      "Help on method_descriptor:\n",
      "\n",
      "index(self, value, start=0, stop=9223372036854775807, /)\n",
      "    Return first index of value.\n",
      "    \n",
      "    Raises ValueError if the value is not present.\n",
      "\n"
     ]
    }
   ],
   "source": [
    "help (list.index)\n",
    "#\n",
    "#"
   ]
  },
  {
   "cell_type": "code",
   "execution_count": 48,
   "metadata": {},
   "outputs": [
    {
     "data": {
      "text/plain": [
       "1"
      ]
     },
     "execution_count": 48,
     "metadata": {},
     "output_type": "execute_result"
    }
   ],
   "source": [
    "#--------------------------------------------------\n",
    "# List methods -remember methods need ()\n",
    "#  .index() - index starts ar zero 0\n",
    "#--------------------------------------------------\n",
    "monday_temperatures = [9.1, 8.8, 7.5]\n",
    "\n",
    "monday_temperatures.index(8.8)\n"
   ]
  },
  {
   "cell_type": "code",
   "execution_count": 50,
   "metadata": {},
   "outputs": [
    {
     "ename": "ValueError",
     "evalue": "8.8 is not in list",
     "output_type": "error",
     "traceback": [
      "\u001b[1;31m---------------------------------------------------------------------------\u001b[0m",
      "\u001b[1;31mValueError\u001b[0m                                Traceback (most recent call last)",
      "\u001b[1;32m<ipython-input-50-8f7609a365d6>\u001b[0m in \u001b[0;36m<module>\u001b[1;34m\u001b[0m\n\u001b[1;32m----> 1\u001b[1;33m \u001b[0mmonday_temperatures\u001b[0m\u001b[1;33m.\u001b[0m\u001b[0mindex\u001b[0m\u001b[1;33m(\u001b[0m\u001b[1;36m8.8\u001b[0m\u001b[1;33m,\u001b[0m \u001b[1;36m2\u001b[0m\u001b[1;33m)\u001b[0m\u001b[1;33m\u001b[0m\u001b[1;33m\u001b[0m\u001b[0m\n\u001b[0m",
      "\u001b[1;31mValueError\u001b[0m: 8.8 is not in list"
     ]
    }
   ],
   "source": [
    "monday_temperatures.index(8.8, 2) # Starts with item 7.5 in list"
   ]
  },
  {
   "cell_type": "code",
   "execution_count": 52,
   "metadata": {},
   "outputs": [
    {
     "data": {
      "text/plain": [
       "['__add__',\n",
       " '__class__',\n",
       " '__contains__',\n",
       " '__delattr__',\n",
       " '__dir__',\n",
       " '__doc__',\n",
       " '__eq__',\n",
       " '__format__',\n",
       " '__ge__',\n",
       " '__getattribute__',\n",
       " '__getitem__',\n",
       " '__getnewargs__',\n",
       " '__gt__',\n",
       " '__hash__',\n",
       " '__init__',\n",
       " '__init_subclass__',\n",
       " '__iter__',\n",
       " '__le__',\n",
       " '__len__',\n",
       " '__lt__',\n",
       " '__mul__',\n",
       " '__ne__',\n",
       " '__new__',\n",
       " '__reduce__',\n",
       " '__reduce_ex__',\n",
       " '__repr__',\n",
       " '__rmul__',\n",
       " '__setattr__',\n",
       " '__sizeof__',\n",
       " '__str__',\n",
       " '__subclasshook__',\n",
       " 'count',\n",
       " 'index']"
      ]
     },
     "execution_count": 52,
     "metadata": {},
     "output_type": "execute_result"
    }
   ],
   "source": [
    "dir(tuple)"
   ]
  },
  {
   "cell_type": "code",
   "execution_count": 57,
   "metadata": {},
   "outputs": [
    {
     "data": {
      "text/plain": [
       "[24]"
      ]
     },
     "execution_count": 57,
     "metadata": {},
     "output_type": "execute_result"
    }
   ],
   "source": [
    "#--------------------------------------------------------\n",
    "# Removing mulitple items from a list\n",
    "#--------------------------------------------------------\n",
    "seconds = [1.4534345567, 1.023458894, 1.10001399445, 24]\n",
    "seconds.remove(1.4534345567)\n",
    "seconds.remove(1.023458894)\n",
    "seconds.remove(1.10001399445)\n",
    "seconds"
   ]
  },
  {
   "cell_type": "code",
   "execution_count": 61,
   "metadata": {},
   "outputs": [
    {
     "data": {
      "text/plain": [
       "8.8"
      ]
     },
     "execution_count": 61,
     "metadata": {},
     "output_type": "execute_result"
    }
   ],
   "source": [
    "#--------------------------------------------------\n",
    "# Getting a value for a certain index\n",
    "#--------------------------------------------------\n",
    "monday_temperatures = [9.1, 8.8, 7.5, 6.6, 9.9]\n",
    "\n",
    "monday_temperatures[1]"
   ]
  },
  {
   "cell_type": "code",
   "execution_count": 62,
   "metadata": {},
   "outputs": [
    {
     "data": {
      "text/plain": [
       "5"
      ]
     },
     "execution_count": 62,
     "metadata": {},
     "output_type": "execute_result"
    }
   ],
   "source": [
    "len(monday_temperatures)"
   ]
  },
  {
   "cell_type": "code",
   "execution_count": 64,
   "metadata": {},
   "outputs": [
    {
     "data": {
      "text/plain": [
       "[8.8, 7.5, 6.6]"
      ]
     },
     "execution_count": 64,
     "metadata": {},
     "output_type": "execute_result"
    }
   ],
   "source": [
    "#--------------------------------------------------\n",
    "# Getting range of values from a list (slice)\n",
    "# Note: Upper limit is never included\n",
    "#--------------------------------------------------\n",
    "monday_temperatures[1:4]"
   ]
  },
  {
   "cell_type": "code",
   "execution_count": 65,
   "metadata": {},
   "outputs": [
    {
     "data": {
      "text/plain": [
       "[9.1, 8.8, 7.5, 6.6]"
      ]
     },
     "execution_count": 65,
     "metadata": {},
     "output_type": "execute_result"
    }
   ],
   "source": [
    "#--------------------------------------------------\n",
    "# Getting range of values from a list (slice)\n",
    "# Note: Upper limit is never included\n",
    "#       Defualt start is 0\n",
    "#--------------------------------------------------\n",
    "monday_temperatures[:4]"
   ]
  },
  {
   "cell_type": "code",
   "execution_count": 66,
   "metadata": {},
   "outputs": [
    {
     "data": {
      "text/plain": [
       "[6.6, 9.9]"
      ]
     },
     "execution_count": 66,
     "metadata": {},
     "output_type": "execute_result"
    }
   ],
   "source": [
    "#--------------------------------------------------\n",
    "# Getting range of values from a list (slice)\n",
    "# Note: Extract from item 3 to the last item\n",
    "#--------------------------------------------------\n",
    "monday_temperatures[3:]"
   ]
  },
  {
   "cell_type": "code",
   "execution_count": 67,
   "metadata": {},
   "outputs": [
    {
     "data": {
      "text/plain": [
       "9.9"
      ]
     },
     "execution_count": 67,
     "metadata": {},
     "output_type": "execute_result"
    }
   ],
   "source": [
    "#--------------------------------------------------\n",
    "# Getting last item of a list\n",
    "# Note: -1 is last item of list, -2 is second to last item\n",
    "#--------------------------------------------------\n",
    "monday_temperatures[-1]"
   ]
  },
  {
   "cell_type": "code",
   "execution_count": 68,
   "metadata": {},
   "outputs": [
    {
     "data": {
      "text/plain": [
       "[8.8, 7.5]"
      ]
     },
     "execution_count": 68,
     "metadata": {},
     "output_type": "execute_result"
    }
   ],
   "source": [
    "monday_temperatures[-4:-2]  # Will get 8.8 & 7.5"
   ]
  },
  {
   "cell_type": "markdown",
   "metadata": {},
   "source": [
    "#### Characters in a slice (string)"
   ]
  },
  {
   "cell_type": "code",
   "execution_count": 75,
   "metadata": {},
   "outputs": [
    {
     "name": "stdout",
     "output_type": "stream",
     "text": [
      "e\n",
      "o\n",
      "hel\n"
     ]
    }
   ],
   "source": [
    "mystring = \"hello\"\n",
    "print(mystring[1])\n",
    "print (mystring[-1])\n",
    "print (mystring[:3])"
   ]
  },
  {
   "cell_type": "code",
   "execution_count": 77,
   "metadata": {},
   "outputs": [
    {
     "name": "stdout",
     "output_type": "stream",
     "text": [
      "hello\n",
      "l\n"
     ]
    }
   ],
   "source": [
    "monday_temperatures = ['hello', 1, 2, 3]\n",
    "print(monday_temperatures[0])\n",
    "print(monday_temperatures[0][2])"
   ]
  },
  {
   "cell_type": "code",
   "execution_count": null,
   "metadata": {},
   "outputs": [],
   "source": [
    "#--------------------------------------------------------\n",
    "#  Dictionaries\n",
    "#--------------------------------------------------------"
   ]
  },
  {
   "cell_type": "code",
   "execution_count": 78,
   "metadata": {},
   "outputs": [
    {
     "ename": "SyntaxError",
     "evalue": "invalid syntax (<ipython-input-78-038988a9a6fe>, line 1)",
     "output_type": "error",
     "traceback": [
      "\u001b[1;36m  File \u001b[1;32m\"<ipython-input-78-038988a9a6fe>\"\u001b[1;36m, line \u001b[1;32m1\u001b[0m\n\u001b[1;33m    student_grades =c {\"Marry\": 9.1, \"Sim\": 8.8, \"John\": 7.5}\u001b[0m\n\u001b[1;37m                      ^\u001b[0m\n\u001b[1;31mSyntaxError\u001b[0m\u001b[1;31m:\u001b[0m invalid syntax\n"
     ]
    }
   ],
   "source": [
    "student_grades = {\"Marry\": 9.1, \"Sim\": 8.8, \"John\": 7.5}\n",
    "student_grades[1]"
   ]
  },
  {
   "cell_type": "code",
   "execution_count": 79,
   "metadata": {},
   "outputs": [
    {
     "data": {
      "text/plain": [
       "8.8"
      ]
     },
     "execution_count": 79,
     "metadata": {},
     "output_type": "execute_result"
    }
   ],
   "source": [
    "#--------------------------------------------------------\n",
    "#  Dictionaries are indexed by the key\n",
    "#--------------------------------------------------------\n",
    "student_grades[\"Sim\"]"
   ]
  },
  {
   "cell_type": "markdown",
   "metadata": {},
   "source": [
    "##### Creating Functions"
   ]
  },
  {
   "cell_type": "code",
   "execution_count": 87,
   "metadata": {},
   "outputs": [],
   "source": [
    "#---------------------------------------------\n",
    "# Define function\n",
    "#   name(list):\n",
    "#       - four spaces ident below\n",
    "#---------------------------------------------\n",
    "def mean(my_numbers):\n",
    "    the_mean = sum(my_numbers) / len(my_numbers)\n",
    "    return the_mean\n",
    "\n",
    "#\n",
    "# Without a return, a function will return a \"none\" object"
   ]
  },
  {
   "cell_type": "code",
   "execution_count": 88,
   "metadata": {},
   "outputs": [
    {
     "name": "stdout",
     "output_type": "stream",
     "text": [
      "3.3333333333333335\n"
     ]
    }
   ],
   "source": [
    "print(mean([1, 4, 5]))"
   ]
  },
  {
   "cell_type": "code",
   "execution_count": 89,
   "metadata": {},
   "outputs": [
    {
     "name": "stdout",
     "output_type": "stream",
     "text": [
      "<class 'function'>\n"
     ]
    }
   ],
   "source": [
    "print(type(mean))"
   ]
  },
  {
   "cell_type": "code",
   "execution_count": 91,
   "metadata": {},
   "outputs": [
    {
     "name": "stdout",
     "output_type": "stream",
     "text": [
      "<class 'builtin_function_or_method'>\n"
     ]
    }
   ],
   "source": [
    "print(type(sum))"
   ]
  },
  {
   "cell_type": "markdown",
   "metadata": {},
   "source": [
    "##### Conditionals"
   ]
  },
  {
   "cell_type": "code",
   "execution_count": 102,
   "metadata": {},
   "outputs": [
    {
     "name": "stdout",
     "output_type": "stream",
     "text": [
      "Mean Student Grades 8.466666666666667\n",
      "Mean Monday Temperatures 8.379999999999999\n"
     ]
    }
   ],
   "source": [
    "#---------------------------------------------\n",
    "# Define function\n",
    "#   name(list):\n",
    "#       - four spaces ident below\n",
    "#---------------------------------------------\n",
    "def mean(value):\n",
    "    if type(value) == dict:\n",
    "        the_mean = sum(value.values()) / len(value)\n",
    "    else:\n",
    "        the_mean = sum(value) / len(value)\n",
    "    \n",
    "    return the_mean\n",
    "\n",
    "monday_temperatures = [9.1, 8.8, 7.5, 6.6, 9.9]\n",
    "student_grades = {\"Marry\": 9.1, \"Sim\": 8.8, \"John\": 7.5}\n",
    "print ('Mean Student Grades', mean(student_grades))\n",
    "print ('Mean Monday Temperatures', mean(monday_temperatures))"
   ]
  },
  {
   "cell_type": "code",
   "execution_count": 103,
   "metadata": {},
   "outputs": [
    {
     "name": "stdout",
     "output_type": "stream",
     "text": [
      "Greater\n"
     ]
    }
   ],
   "source": [
    "x = 3\n",
    "if x > 1:\n",
    "    print ('Greater')\n",
    "else:\n",
    "    print ('Not Greater')\n",
    "    \n"
   ]
  },
  {
   "cell_type": "code",
   "execution_count": 105,
   "metadata": {},
   "outputs": [
    {
     "name": "stdout",
     "output_type": "stream",
     "text": [
      "x is greater than y\n"
     ]
    }
   ],
   "source": [
    "#----------------------------------\n",
    "#  ElIf conditions\n",
    "#----------------------------------\n",
    "x = 3\n",
    "y = 1\n",
    "if x > y:\n",
    "    print ('x is greater than y')\n",
    "elif x == y:\n",
    "    print ('x is equal to y')\n",
    "else:\n",
    "    print ('x is less than y')\n",
    "    \n",
    "    "
   ]
  },
  {
   "cell_type": "markdown",
   "metadata": {},
   "source": [
    "##### Processing User Input"
   ]
  },
  {
   "cell_type": "code",
   "execution_count": 118,
   "metadata": {},
   "outputs": [
    {
     "name": "stdout",
     "output_type": "stream",
     "text": [
      "Cold\n"
     ]
    }
   ],
   "source": [
    "def weather_condition(temperature):\n",
    "    if temperature > 7:\n",
    "        return 'Warm'\n",
    "    else:\n",
    "        return 'Cold'\n",
    "    \n",
    "print(weather_condition(5))"
   ]
  },
  {
   "cell_type": "code",
   "execution_count": 128,
   "metadata": {},
   "outputs": [
    {
     "name": "stdout",
     "output_type": "stream",
     "text": [
      "<class 'str'>\n",
      "Invalid Input - Please enter a number\n"
     ]
    }
   ],
   "source": [
    "def weather_condition2(temperature):\n",
    "    print (type(temperature))\n",
    "    if (type(temperature)) == str:\n",
    "        return 'Invalid Input - Please enter a number'\n",
    "    elif temperature > 7:\n",
    "        return 'Warm'\n",
    "    else:\n",
    "        return 'Cold'\n",
    "    \n",
    "print(weather_condition2('Hello'))"
   ]
  },
  {
   "cell_type": "code",
   "execution_count": 108,
   "metadata": {},
   "outputs": [
    {
     "name": "stdout",
     "output_type": "stream",
     "text": [
      "Enter Temperature:7\n"
     ]
    },
    {
     "data": {
      "text/plain": [
       "'7'"
      ]
     },
     "execution_count": 108,
     "metadata": {},
     "output_type": "execute_result"
    }
   ],
   "source": [
    "input('Enter Temperature:')"
   ]
  },
  {
   "cell_type": "code",
   "execution_count": 109,
   "metadata": {},
   "outputs": [
    {
     "name": "stdout",
     "output_type": "stream",
     "text": [
      "Enter Temperature:HELLO\n"
     ]
    }
   ],
   "source": [
    "user_input = input('Enter Temperature:')"
   ]
  },
  {
   "cell_type": "code",
   "execution_count": 111,
   "metadata": {},
   "outputs": [
    {
     "name": "stdout",
     "output_type": "stream",
     "text": [
      "hello\n"
     ]
    }
   ],
   "source": [
    "print (user_input.lower())"
   ]
  },
  {
   "cell_type": "code",
   "execution_count": 119,
   "metadata": {},
   "outputs": [
    {
     "name": "stdout",
     "output_type": "stream",
     "text": [
      "Enter Temperature:9\n"
     ]
    },
    {
     "ename": "TypeError",
     "evalue": "'>' not supported between instances of 'str' and 'int'",
     "output_type": "error",
     "traceback": [
      "\u001b[1;31m---------------------------------------------------------------------------\u001b[0m",
      "\u001b[1;31mTypeError\u001b[0m                                 Traceback (most recent call last)",
      "\u001b[1;32m<ipython-input-119-e073323b5fd4>\u001b[0m in \u001b[0;36m<module>\u001b[1;34m\u001b[0m\n\u001b[0;32m      1\u001b[0m \u001b[0muser_input\u001b[0m \u001b[1;33m=\u001b[0m \u001b[0minput\u001b[0m\u001b[1;33m(\u001b[0m\u001b[1;34m'Enter Temperature:'\u001b[0m\u001b[1;33m)\u001b[0m\u001b[1;33m\u001b[0m\u001b[1;33m\u001b[0m\u001b[0m\n\u001b[1;32m----> 2\u001b[1;33m \u001b[0mprint\u001b[0m \u001b[1;33m(\u001b[0m\u001b[0mweather_condition\u001b[0m\u001b[1;33m(\u001b[0m\u001b[0muser_input\u001b[0m\u001b[1;33m)\u001b[0m\u001b[1;33m)\u001b[0m\u001b[1;33m\u001b[0m\u001b[1;33m\u001b[0m\u001b[0m\n\u001b[0m",
      "\u001b[1;32m<ipython-input-118-fea5d59112e8>\u001b[0m in \u001b[0;36mweather_condition\u001b[1;34m(temperature)\u001b[0m\n\u001b[0;32m      1\u001b[0m \u001b[1;32mdef\u001b[0m \u001b[0mweather_condition\u001b[0m\u001b[1;33m(\u001b[0m\u001b[0mtemperature\u001b[0m\u001b[1;33m)\u001b[0m\u001b[1;33m:\u001b[0m\u001b[1;33m\u001b[0m\u001b[1;33m\u001b[0m\u001b[0m\n\u001b[1;32m----> 2\u001b[1;33m     \u001b[1;32mif\u001b[0m \u001b[0mtemperature\u001b[0m \u001b[1;33m>\u001b[0m \u001b[1;36m7\u001b[0m\u001b[1;33m:\u001b[0m\u001b[1;33m\u001b[0m\u001b[1;33m\u001b[0m\u001b[0m\n\u001b[0m\u001b[0;32m      3\u001b[0m         \u001b[1;32mreturn\u001b[0m \u001b[1;34m'Warm'\u001b[0m\u001b[1;33m\u001b[0m\u001b[1;33m\u001b[0m\u001b[0m\n\u001b[0;32m      4\u001b[0m     \u001b[1;32melse\u001b[0m\u001b[1;33m:\u001b[0m\u001b[1;33m\u001b[0m\u001b[1;33m\u001b[0m\u001b[0m\n\u001b[0;32m      5\u001b[0m         \u001b[1;32mreturn\u001b[0m \u001b[1;34m'Cold'\u001b[0m\u001b[1;33m\u001b[0m\u001b[1;33m\u001b[0m\u001b[0m\n",
      "\u001b[1;31mTypeError\u001b[0m: '>' not supported between instances of 'str' and 'int'"
     ]
    }
   ],
   "source": [
    "user_input = input('Enter Temperature:')\n",
    "print (weather_condition(user_input))"
   ]
  },
  {
   "cell_type": "code",
   "execution_count": 116,
   "metadata": {},
   "outputs": [
    {
     "name": "stdout",
     "output_type": "stream",
     "text": [
      "<class 'str'>\n"
     ]
    }
   ],
   "source": [
    "print (type(user_input))"
   ]
  },
  {
   "cell_type": "code",
   "execution_count": 129,
   "metadata": {},
   "outputs": [
    {
     "name": "stdout",
     "output_type": "stream",
     "text": [
      "Enter Temperature:Hello\n"
     ]
    },
    {
     "ename": "ValueError",
     "evalue": "could not convert string to float: 'Hello'",
     "output_type": "error",
     "traceback": [
      "\u001b[1;31m---------------------------------------------------------------------------\u001b[0m",
      "\u001b[1;31mValueError\u001b[0m                                Traceback (most recent call last)",
      "\u001b[1;32m<ipython-input-129-2ac6b8fe7203>\u001b[0m in \u001b[0;36m<module>\u001b[1;34m\u001b[0m\n\u001b[1;32m----> 1\u001b[1;33m \u001b[0muser_input\u001b[0m \u001b[1;33m=\u001b[0m \u001b[0mfloat\u001b[0m\u001b[1;33m(\u001b[0m\u001b[0minput\u001b[0m\u001b[1;33m(\u001b[0m\u001b[1;34m'Enter Temperature:'\u001b[0m\u001b[1;33m)\u001b[0m\u001b[1;33m)\u001b[0m\u001b[1;33m\u001b[0m\u001b[1;33m\u001b[0m\u001b[0m\n\u001b[0m\u001b[0;32m      2\u001b[0m \u001b[0mprint\u001b[0m \u001b[1;33m(\u001b[0m\u001b[0mweather_condition2\u001b[0m\u001b[1;33m(\u001b[0m\u001b[0muser_input\u001b[0m\u001b[1;33m)\u001b[0m\u001b[1;33m)\u001b[0m\u001b[1;33m\u001b[0m\u001b[1;33m\u001b[0m\u001b[0m\n",
      "\u001b[1;31mValueError\u001b[0m: could not convert string to float: 'Hello'"
     ]
    }
   ],
   "source": [
    "user_input = float(input('Enter Temperature:'))\n",
    "print (weather_condition(user_input))"
   ]
  },
  {
   "cell_type": "code",
   "execution_count": 131,
   "metadata": {},
   "outputs": [
    {
     "name": "stdout",
     "output_type": "stream",
     "text": [
      "Enter Temperature:9.2\n",
      "<class 'str'>\n",
      "Invalid Input - Please enter a number\n"
     ]
    }
   ],
   "source": [
    "user_input = input('Enter Temperature:')\n",
    "print (weather_condition2(user_input))"
   ]
  },
  {
   "cell_type": "markdown",
   "metadata": {},
   "source": [
    "##### String Input"
   ]
  },
  {
   "cell_type": "code",
   "execution_count": 132,
   "metadata": {},
   "outputs": [
    {
     "name": "stdout",
     "output_type": "stream",
     "text": [
      "Enter your name: Jack\n",
      "Hello Jack\n"
     ]
    }
   ],
   "source": [
    "#--------------------------------------------------\n",
    "#  %s is special string representation\n",
    "#  The value of user_input will replace %s\n",
    "#--------------------------------------------------\n",
    "user_input = input('Enter your name: ')\n",
    "message = 'Hello %s' % user_input\n",
    "print (message)"
   ]
  },
  {
   "cell_type": "code",
   "execution_count": 134,
   "metadata": {},
   "outputs": [
    {
     "name": "stdout",
     "output_type": "stream",
     "text": [
      "Enter your name: Jack\n",
      "Hello Jack\n"
     ]
    }
   ],
   "source": [
    "#--------------------------------------------------\n",
    "#  -----\n",
    "#  Note: Only for Python 3.6 or above\n",
    "#  -----\n",
    "#  {variable} is special string representation\n",
    "#  The value of {user_input} will be printed\n",
    "#--------------------------------------------------\n",
    "user_input = input('Enter your name: ')\n",
    "message = f'Hello {user_input}'\n",
    "print (message)"
   ]
  },
  {
   "cell_type": "code",
   "execution_count": 136,
   "metadata": {},
   "outputs": [
    {
     "name": "stdout",
     "output_type": "stream",
     "text": [
      "Enter your first name: Jack\n",
      "Enter your last name: Wells\n",
      "Hello Jack Wells\n"
     ]
    }
   ],
   "source": [
    "#--------------------------------------------------\n",
    "#  Multiple string values\n",
    "#--------------------------------------------------\n",
    "user_first = input('Enter your first name: ')\n",
    "user_last = input('Enter your last name: ')\n",
    "message = 'Hello %s %s' % (user_first, user_last)\n",
    "print (message)"
   ]
  },
  {
   "cell_type": "code",
   "execution_count": 137,
   "metadata": {},
   "outputs": [
    {
     "name": "stdout",
     "output_type": "stream",
     "text": [
      "Enter your first name: Jack\n",
      "Enter your last name: Wellmerling\n",
      "Hello Jack Wellmerling\n"
     ]
    }
   ],
   "source": [
    "#--------------------------------------------------\n",
    "#  -----\n",
    "#  Note: Only for Python 3.6 or above\n",
    "#  -----\n",
    "#  Multiple string values\n",
    "#--------------------------------------------------\n",
    "user_first = input('Enter your first name: ')\n",
    "user_last = input('Enter your last name: ')\n",
    "message = f'Hello {user_first} {user_last}'\n",
    "print (message)"
   ]
  },
  {
   "cell_type": "code",
   "execution_count": 140,
   "metadata": {},
   "outputs": [],
   "source": [
    "def greeting(name):\n",
    "    greeting_msg = f'Hi {name}'\n",
    "    print (greeting_msg)"
   ]
  },
  {
   "cell_type": "code",
   "execution_count": 141,
   "metadata": {},
   "outputs": [],
   "source": [
    "def greeting(name):\n",
    "    greeting_msg = f\"Hi {name}\"\n",
    "    print (greeting_msg)"
   ]
  },
  {
   "cell_type": "code",
   "execution_count": 142,
   "metadata": {},
   "outputs": [
    {
     "name": "stdout",
     "output_type": "stream",
     "text": [
      "Hi Jack\n"
     ]
    }
   ],
   "source": [
    "greeting('Jack')"
   ]
  },
  {
   "cell_type": "code",
   "execution_count": 145,
   "metadata": {},
   "outputs": [],
   "source": [
    "def greeting2(name):\n",
    "    greeting_msg = 'Hi %s' % name\n",
    "    return greeting_msg"
   ]
  },
  {
   "cell_type": "code",
   "execution_count": 147,
   "metadata": {},
   "outputs": [
    {
     "data": {
      "text/plain": [
       "'Hi Jack'"
      ]
     },
     "execution_count": 147,
     "metadata": {},
     "output_type": "execute_result"
    }
   ],
   "source": [
    "greeting2('Jack')"
   ]
  },
  {
   "cell_type": "code",
   "execution_count": 150,
   "metadata": {},
   "outputs": [],
   "source": [
    "def greeting3(name):\n",
    "    greeting_msg = 'Hi %s' % name.title()\n",
    "    return greeting_msg"
   ]
  },
  {
   "cell_type": "code",
   "execution_count": 152,
   "metadata": {},
   "outputs": [
    {
     "data": {
      "text/plain": [
       "'Hi Jack'"
      ]
     },
     "execution_count": 152,
     "metadata": {},
     "output_type": "execute_result"
    }
   ],
   "source": [
    "greeting3('jack')"
   ]
  },
  {
   "cell_type": "code",
   "execution_count": 174,
   "metadata": {},
   "outputs": [],
   "source": [
    "monday_temperatures = []"
   ]
  },
  {
   "cell_type": "markdown",
   "metadata": {},
   "source": [
    "##### For Loops"
   ]
  },
  {
   "cell_type": "code",
   "execution_count": 176,
   "metadata": {},
   "outputs": [],
   "source": [
    "monday_temperatures = [9.1, 8.8, 7.6]"
   ]
  },
  {
   "cell_type": "code",
   "execution_count": 177,
   "metadata": {},
   "outputs": [
    {
     "name": "stdout",
     "output_type": "stream",
     "text": [
      "9\n"
     ]
    }
   ],
   "source": [
    "#-----------------------------------------\n",
    "#  Access items in a list and loop\n",
    "#  thru all items, print rounded version\n",
    "#-----------------------------------------\n",
    "rnd_temp = round(monday_temperatures[0])\n",
    "print (rnd_temp)"
   ]
  },
  {
   "cell_type": "code",
   "execution_count": 178,
   "metadata": {},
   "outputs": [
    {
     "name": "stdout",
     "output_type": "stream",
     "text": [
      "9\n",
      "9\n",
      "8\n"
     ]
    }
   ],
   "source": [
    "for temperature in monday_temperatures:\n",
    "#    print (type(temperature))\n",
    "#    print (int(temperature))\n",
    "    rnd_temp = round(temperature)\n",
    "    print (rnd_temp)"
   ]
  },
  {
   "cell_type": "code",
   "execution_count": 179,
   "metadata": {},
   "outputs": [
    {
     "name": "stdout",
     "output_type": "stream",
     "text": [
      "3\n"
     ]
    }
   ],
   "source": [
    "print (len(monday_temperatures))"
   ]
  },
  {
   "cell_type": "code",
   "execution_count": 181,
   "metadata": {},
   "outputs": [
    {
     "name": "stdout",
     "output_type": "stream",
     "text": [
      "H\n",
      "E\n",
      "L\n",
      "L\n",
      "O\n"
     ]
    }
   ],
   "source": [
    "for letter in 'hello':\n",
    "    print(letter.title())"
   ]
  },
  {
   "cell_type": "code",
   "execution_count": 182,
   "metadata": {},
   "outputs": [
    {
     "name": "stdout",
     "output_type": "stream",
     "text": [
      "11\n",
      "34\n",
      "98\n",
      "43\n",
      "45\n",
      "54\n",
      "54\n"
     ]
    }
   ],
   "source": [
    "colors = [11, 34, 98, 43, 45, 54, 54]\n",
    "for color in colors:\n",
    "    print (color)"
   ]
  },
  {
   "cell_type": "code",
   "execution_count": 183,
   "metadata": {},
   "outputs": [
    {
     "name": "stdout",
     "output_type": "stream",
     "text": [
      "98\n",
      "54\n",
      "54\n"
     ]
    }
   ],
   "source": [
    "#------------------------------------------\n",
    "# Print color greater than 50.\n",
    "#------------------------------------------\n",
    "colors = [11, 34, 98, 43, 45, 54, 54]\n",
    "for color in colors:\n",
    "    if color > 50:\n",
    "        print (color)"
   ]
  },
  {
   "cell_type": "code",
   "execution_count": 184,
   "metadata": {},
   "outputs": [
    {
     "name": "stdout",
     "output_type": "stream",
     "text": [
      "11\n",
      "43\n",
      "54\n",
      "54\n"
     ]
    }
   ],
   "source": [
    "#------------------------------------------\n",
    "# Print color if integer\n",
    "#------------------------------------------\n",
    "colors = [11, 34.1, 98.2, 43, 45.1, 54, 54]\n",
    "for color in colors:\n",
    "    if type(color) == int:\n",
    "        print (color)"
   ]
  },
  {
   "cell_type": "code",
   "execution_count": 185,
   "metadata": {},
   "outputs": [
    {
     "name": "stdout",
     "output_type": "stream",
     "text": [
      "54\n",
      "54\n"
     ]
    }
   ],
   "source": [
    "#------------------------------------------\n",
    "# Print color if integer AND greater than\n",
    "# 50.\n",
    "#------------------------------------------\n",
    "colors = [11, 34.1, 98.2, 43, 45.1, 54, 54]\n",
    "for color in colors:\n",
    "    if type(color) == int:\n",
    "        if color > 50:\n",
    "            print (color)\n",
    "            "
   ]
  },
  {
   "cell_type": "code",
   "execution_count": 188,
   "metadata": {},
   "outputs": [
    {
     "name": "stdout",
     "output_type": "stream",
     "text": [
      "Marry\n",
      "Sim\n",
      "John\n"
     ]
    }
   ],
   "source": [
    "#------------------------------------------------\n",
    "#  Loop thru DICTIONARY\n",
    "#------------------------------------------------\n",
    "#\n",
    "# Iterate over: Items, Key or Values\n",
    "student_grades = {\"Marry\": 9.1, \"Sim\": 8.8, \"John\": 7.5}\n",
    "#for grades in student_grades.values():\n",
    "#for grades in student_grades.items():  # - Output will be a Tuple\n",
    "for grades in student_grades.keys():\n",
    "    print (grades)"
   ]
  },
  {
   "cell_type": "code",
   "execution_count": 189,
   "metadata": {},
   "outputs": [
    {
     "name": "stdout",
     "output_type": "stream",
     "text": [
      "John Smith has as phone number +37682929928\n",
      "Marry Simpons has as phone number +423998200919\n"
     ]
    }
   ],
   "source": [
    "#---------Dictionary Loop---------------------------------------------\n",
    "#\n",
    "# Dictionary Loop and String formatting\n",
    "#---------------------------------------------------------------------\n",
    "phone_numbers = {\"John Smith\": \"+37682929928\", \"Marry Simpons\": \"+423998200919\"}\n",
    " \n",
    "for key, value in phone_numbers.items():\n",
    "    print(\"{} has as phone number {}\".format(key, value))"
   ]
  },
  {
   "cell_type": "code",
   "execution_count": 195,
   "metadata": {},
   "outputs": [
    {
     "name": "stdout",
     "output_type": "stream",
     "text": [
      "John Smith : +37682929928\n",
      "Marry Simpons : +423998200919\n"
     ]
    }
   ],
   "source": [
    "phone_numbers = {\"John Smith\": \"+37682929928\", \"Marry Simpons\": \"+423998200919\"}\n",
    "for key, value in phone_numbers.items(): \n",
    "    print(\"{} : {}\".format(key, value))"
   ]
  },
  {
   "cell_type": "code",
   "execution_count": 203,
   "metadata": {},
   "outputs": [
    {
     "name": "stdout",
     "output_type": "stream",
     "text": [
      "0037682929928\n",
      "00423998200919\n"
     ]
    }
   ],
   "source": [
    "phone_numbers = {\"John Smith\": \"+37682929928\", \"Marry Simpons\": \"+423998200919\"}\n",
    "for value in phone_numbers.values(): \n",
    "    print('00' + str(value[1:]))"
   ]
  },
  {
   "cell_type": "markdown",
   "metadata": {},
   "source": [
    "##### While Loop"
   ]
  },
  {
   "cell_type": "code",
   "execution_count": 205,
   "metadata": {},
   "outputs": [
    {
     "name": "stdout",
     "output_type": "stream",
     "text": [
      "Enter username: Jack\n",
      "Enter username: pypy\n"
     ]
    }
   ],
   "source": [
    "a = 3\n",
    "username = ''\n",
    "while username != 'pypy':\n",
    "    username = input('Enter username: ')\n",
    "\n",
    "    "
   ]
  },
  {
   "cell_type": "code",
   "execution_count": 206,
   "metadata": {},
   "outputs": [
    {
     "name": "stdout",
     "output_type": "stream",
     "text": [
      "1\n",
      "2\n",
      "3\n",
      "4\n",
      "5\n"
     ]
    }
   ],
   "source": [
    "a = 0\n",
    "while a < 5:\n",
    "    a = a + 1\n",
    "    print (a)"
   ]
  },
  {
   "cell_type": "code",
   "execution_count": 207,
   "metadata": {},
   "outputs": [
    {
     "name": "stdout",
     "output_type": "stream",
     "text": [
      "Enter username: jACK\n",
      "Enter username: David\n",
      "Enter username: pypy\n"
     ]
    }
   ],
   "source": [
    "while True:\n",
    "    username = input(\"Enter username: \")\n",
    "    if username == 'pypy':\n",
    "        break\n",
    "    else:\n",
    "        continue\n",
    "        "
   ]
  },
  {
   "cell_type": "markdown",
   "metadata": {},
   "source": [
    "##### Putting it all together - Building a Program"
   ]
  },
  {
   "cell_type": "code",
   "execution_count": 222,
   "metadata": {},
   "outputs": [
    {
     "name": "stdout",
     "output_type": "stream",
     "text": [
      "say something: hello how are you\n",
      "say something: Why is it cold\n",
      "say something: what time is it\n",
      "say something: \\end\n",
      "['Hello how are you.', 'Why is it cold?', 'What time is it?']\n"
     ]
    }
   ],
   "source": [
    "def sentence_maker(phrase):\n",
    "    interrogatives = (\"how\", \"How\", \"what\", \"What\", \"why\", \"Why\", \"which\", \"Which\")\n",
    "    capitalized = phrase.capitalize()\n",
    "    if phrase.startswith(interrogatives):\n",
    "        return \"{}?\".format(capitalized)\n",
    "    else:\n",
    "        return \"{}.\".format(capitalized)\n",
    "\n",
    "#\n",
    "#print(sentence_maker(\"how are you\"))\n",
    "\n",
    "result = []\n",
    "while True:\n",
    "    user_input = input(\"say something: \")\n",
    "    if user_input == \"\\end\":\n",
    "        break\n",
    "    else:\n",
    "        result.append(sentence_maker(user_input))\n",
    "\n",
    "print (result)"
   ]
  },
  {
   "cell_type": "code",
   "execution_count": 210,
   "metadata": {},
   "outputs": [
    {
     "data": {
      "text/plain": [
       "'How are you?'"
      ]
     },
     "execution_count": 210,
     "metadata": {},
     "output_type": "execute_result"
    }
   ],
   "source": [
    "\"how are you?\".capitalize()"
   ]
  },
  {
   "cell_type": "code",
   "execution_count": 215,
   "metadata": {},
   "outputs": [
    {
     "data": {
      "text/plain": [
       "True"
      ]
     },
     "execution_count": 215,
     "metadata": {},
     "output_type": "execute_result"
    }
   ],
   "source": [
    "\"How are you\".startswith((\"how\", \"How\", \"what\", \"What\", \"why\", \"Why\", \"which\", \"Which\"))"
   ]
  },
  {
   "cell_type": "code",
   "execution_count": 225,
   "metadata": {},
   "outputs": [
    {
     "name": "stdout",
     "output_type": "stream",
     "text": [
      "say something: how are you\n",
      "say something: what time is it\n",
      "say something: is it colde\n",
      "say something: colder than shit\n",
      "say something: \\end\n",
      "How are you? What time is it? Is it colde. Colder than shit.\n"
     ]
    }
   ],
   "source": [
    "def sentence_maker(phrase):\n",
    "    interrogatives = (\"how\", \"How\", \"what\", \"What\", \"why\", \"Why\", \"which\", \"Which\")\n",
    "    capitalized = phrase.capitalize()\n",
    "    if phrase.startswith(interrogatives):\n",
    "        return \"{}?\".format(capitalized)\n",
    "    else:\n",
    "        return \"{}.\".format(capitalized)\n",
    "\n",
    "#\n",
    "#print(sentence_maker(\"how are you\"))\n",
    "\n",
    "result = []\n",
    "while True:\n",
    "    user_input = input(\"say something: \")\n",
    "    if user_input == \"\\end\":\n",
    "        break\n",
    "    else:\n",
    "        result.append(sentence_maker(user_input))\n",
    "\n",
    "print (\" \".join(result))"
   ]
  },
  {
   "cell_type": "code",
   "execution_count": 223,
   "metadata": {},
   "outputs": [
    {
     "data": {
      "text/plain": [
       "'how are you-goog good'"
      ]
     },
     "execution_count": 223,
     "metadata": {},
     "output_type": "execute_result"
    }
   ],
   "source": [
    "\"-\".join([\"how are you\", \"good good\"])"
   ]
  },
  {
   "cell_type": "markdown",
   "metadata": {},
   "source": [
    "##### List Comprehension"
   ]
  },
  {
   "cell_type": "code",
   "execution_count": 226,
   "metadata": {},
   "outputs": [
    {
     "name": "stdout",
     "output_type": "stream",
     "text": [
      "[22.1, 23.4, 34.0, 23.0]\n"
     ]
    }
   ],
   "source": [
    "temps = [221, 234, 340, 230]\n",
    "new_temps = []\n",
    "for temp in temps:\n",
    "    new_temps.append(temp / 10)\n",
    "    \n",
    "print (new_temps)"
   ]
  },
  {
   "cell_type": "code",
   "execution_count": 228,
   "metadata": {},
   "outputs": [
    {
     "name": "stdout",
     "output_type": "stream",
     "text": [
      "[22.1, 23.4, 34.0, 23.0]\n"
     ]
    }
   ],
   "source": [
    "#----------------------------------------------\n",
    "# This code does the same as above\n",
    "#----------------------------------------------\n",
    "temps = [221, 234, 340, 230]\n",
    "\n",
    "new_temps = [temp / 10 for temp in temps]\n",
    "\n",
    "print (new_temps)"
   ]
  },
  {
   "cell_type": "code",
   "execution_count": 230,
   "metadata": {},
   "outputs": [
    {
     "name": "stdout",
     "output_type": "stream",
     "text": [
      "[22.1, 23.4, 34.0, 23.0]\n"
     ]
    }
   ],
   "source": [
    "#----------------------------------------------\n",
    "# Conditional List Comprehension\n",
    "#\n",
    "#   Ignore -9999 value in a list\n",
    "#----------------------------------------------\n",
    "temps = [221, 234, 340, -9999, 230]\n",
    "\n",
    "new_temps = [temp / 10 for temp in temps if temp != -9999]\n",
    "\n",
    "print (new_temps)"
   ]
  },
  {
   "cell_type": "code",
   "execution_count": 235,
   "metadata": {},
   "outputs": [
    {
     "name": "stdout",
     "output_type": "stream",
     "text": [
      "[99, 95, 94]\n"
     ]
    }
   ],
   "source": [
    "foo = [99, 'no data', 95, 94, 'no data']\n",
    "def jack(input):\n",
    "    foo_list = [foo_x for foo_x in input if type(foo_x) != str]\n",
    "    print (foo_list)\n",
    "\n",
    "jack (foo)"
   ]
  },
  {
   "cell_type": "code",
   "execution_count": null,
   "metadata": {},
   "outputs": [],
   "source": [
    "foo = [99, 'no data', 95, 94, 'no data']\n",
    "def jack(input):\n",
    "    foo_list = [foo_x for foo_x in input if type(foo_x) == int]\n",
    "    return(foo_list)"
   ]
  },
  {
   "cell_type": "code",
   "execution_count": 241,
   "metadata": {},
   "outputs": [
    {
     "data": {
      "text/plain": [
       "[99, 94]"
      ]
     },
     "execution_count": 241,
     "metadata": {},
     "output_type": "execute_result"
    }
   ],
   "source": [
    "foo = [99, -12, -87, 94, -99]\n",
    "\n",
    "def jack(input):\n",
    "    foo_list = [foo_x for foo_x in input if foo_x > 0]\n",
    "    return(foo_list)\n",
    "\n",
    "jack (foo)"
   ]
  },
  {
   "cell_type": "code",
   "execution_count": 242,
   "metadata": {},
   "outputs": [
    {
     "name": "stdout",
     "output_type": "stream",
     "text": [
      "[22.1, 23.4, 34.0, 0, 23.0]\n"
     ]
    }
   ],
   "source": [
    "#---------------------------------\n",
    "#  Using Else in List Comprehension\n",
    "#  to return a 0 when -9999\n",
    "#  is encountered\n",
    "#\n",
    "#   For loop must go at the end!\n",
    "#---------------------------------\n",
    "temps = [221, 234, 340, -9999, 230]\n",
    "\n",
    "new_temps = [temp / 10 if temp != -9999 else 0 for temp in temps]\n",
    "\n",
    "print (new_temps)"
   ]
  },
  {
   "cell_type": "code",
   "execution_count": 243,
   "metadata": {},
   "outputs": [
    {
     "data": {
      "text/plain": [
       "[221, 234, 340, 0, 230]"
      ]
     },
     "execution_count": 243,
     "metadata": {},
     "output_type": "execute_result"
    }
   ],
   "source": [
    "temps = [221, 234, 340, 'no data', 230]\n",
    "#-------------------------------------\n",
    "#  Function to return items of a list\n",
    "#  but return 0 if item is a string\n",
    "#-------------------------------------\n",
    "def jack(input):\n",
    "    output = [item if type(item) != str else 0 for item in input]\n",
    "    return output\n",
    "\n",
    "jack (temps)"
   ]
  },
  {
   "cell_type": "code",
   "execution_count": 254,
   "metadata": {},
   "outputs": [],
   "source": [
    "def jack(input):\n",
    "    sum = 0\n",
    "    for item in input:\n",
    "        if type(item) == str:\n",
    "            sum = sum + float(item)\n",
    "    return sum"
   ]
  },
  {
   "cell_type": "code",
   "execution_count": 245,
   "metadata": {},
   "outputs": [
    {
     "ename": "ValueError",
     "evalue": "could not convert string to float: 'jack'",
     "output_type": "error",
     "traceback": [
      "\u001b[1;31m---------------------------------------------------------------------------\u001b[0m",
      "\u001b[1;31mValueError\u001b[0m                                Traceback (most recent call last)",
      "\u001b[1;32m<ipython-input-245-6a9bff89b552>\u001b[0m in \u001b[0;36m<module>\u001b[1;34m\u001b[0m\n\u001b[1;32m----> 1\u001b[1;33m \u001b[0mprint\u001b[0m \u001b[1;33m(\u001b[0m\u001b[0mfloat\u001b[0m\u001b[1;33m(\u001b[0m\u001b[1;34m\"jack\"\u001b[0m\u001b[1;33m)\u001b[0m\u001b[1;33m)\u001b[0m\u001b[1;33m\u001b[0m\u001b[1;33m\u001b[0m\u001b[0m\n\u001b[0m",
      "\u001b[1;31mValueError\u001b[0m: could not convert string to float: 'jack'"
     ]
    }
   ],
   "source": [
    "print (float(\"jack\"))"
   ]
  },
  {
   "cell_type": "code",
   "execution_count": 256,
   "metadata": {},
   "outputs": [
    {
     "name": "stdout",
     "output_type": "stream",
     "text": [
      "8.6\n"
     ]
    }
   ],
   "source": [
    "number = [\"1.1\", \"4\", \"3.5\"]\n",
    "print(jack(number))"
   ]
  },
  {
   "cell_type": "markdown",
   "metadata": {},
   "source": [
    "##### More on Functions - Multiple Arguments"
   ]
  },
  {
   "cell_type": "code",
   "execution_count": 257,
   "metadata": {},
   "outputs": [
    {
     "data": {
      "text/plain": [
       "'jack Wellmerling'"
      ]
     },
     "execution_count": 257,
     "metadata": {},
     "output_type": "execute_result"
    }
   ],
   "source": [
    "def concatenate(str1, str2):\n",
    "    str_out = str1 + str2\n",
    "    return str_out\n",
    "\n",
    "concatenate(\"jack\", \" Wellmerling\")"
   ]
  },
  {
   "cell_type": "code",
   "execution_count": 258,
   "metadata": {},
   "outputs": [
    {
     "name": "stdout",
     "output_type": "stream",
     "text": [
      "DeadEddie\n"
     ]
    }
   ],
   "source": [
    "#--------------------------------\n",
    "#  Keyword arguments\n",
    "#--------------------------------\n",
    "print (concatenate(str2='Eddie', str1='Dead'))"
   ]
  },
  {
   "cell_type": "code",
   "execution_count": 260,
   "metadata": {},
   "outputs": [
    {
     "name": "stdout",
     "output_type": "stream",
     "text": [
      "Jack-Last\n"
     ]
    }
   ],
   "source": [
    "def concatenate(str1, str2='Last'):\n",
    "    str_out = str1 + str2\n",
    "    return str_out\n",
    "\n",
    "print (concatenate(\"Jack-\"))"
   ]
  },
  {
   "cell_type": "code",
   "execution_count": 262,
   "metadata": {},
   "outputs": [
    {
     "ename": "SyntaxError",
     "evalue": "non-default argument follows default argument (<ipython-input-262-615b5f99533b>, line 1)",
     "output_type": "error",
     "traceback": [
      "\u001b[1;36m  File \u001b[1;32m\"<ipython-input-262-615b5f99533b>\"\u001b[1;36m, line \u001b[1;32m1\u001b[0m\n\u001b[1;33m    def concatenateerror(str1='Last', str2):\u001b[0m\n\u001b[1;37m                         ^\u001b[0m\n\u001b[1;31mSyntaxError\u001b[0m\u001b[1;31m:\u001b[0m non-default argument follows default argument\n"
     ]
    }
   ],
   "source": [
    "def concatenateerror(str1='Last', str2):   # Default argument cannot come before non-default arguments\n",
    "    str_out = str1 + str2\n",
    "    return str_out\n",
    "\n",
    "print (concatenateerror(\"Jack-\", 'Eddie'))"
   ]
  },
  {
   "cell_type": "code",
   "execution_count": 265,
   "metadata": {},
   "outputs": [
    {
     "name": "stdout",
     "output_type": "stream",
     "text": [
      "(1, 2, 3, 'hello', 4)\n"
     ]
    }
   ],
   "source": [
    "def mean(*args):  # Mulitple number of arguments *args\n",
    "    return args\n",
    "\n",
    "print (mean(1,2,3,'hello',4))  # Returns a Tuple"
   ]
  },
  {
   "cell_type": "code",
   "execution_count": 267,
   "metadata": {},
   "outputs": [
    {
     "name": "stdout",
     "output_type": "stream",
     "text": [
      "2.5\n"
     ]
    }
   ],
   "source": [
    "def mean2(*args):  # Mulitple number of arguments *args\n",
    "    return sum(args) / len(args) \n",
    "\n",
    "print (mean2(1,2,3,4))  # Returns a Tuple"
   ]
  },
  {
   "cell_type": "code",
   "execution_count": 268,
   "metadata": {},
   "outputs": [
    {
     "name": "stdout",
     "output_type": "stream",
     "text": [
      "25.0\n"
     ]
    }
   ],
   "source": [
    "def foo(*args):\n",
    "    avg = sum(args) / len(args)\n",
    "    return avg\n",
    "\n",
    "print (foo(10, 20, 30, 40))"
   ]
  },
  {
   "cell_type": "code",
   "execution_count": 286,
   "metadata": {},
   "outputs": [],
   "source": [
    "def foo2(*args):\n",
    "#    ucase_arg = args.upper()\n",
    "#    return args.sort()\n",
    "#    return args\n",
    "    sorted_args = sorted(args)\n",
    "    ucase_sorted_args = [(x.upper()) for x in sorted_args]    \n",
    "    return ucase_sorted_args\n"
   ]
  },
  {
   "cell_type": "code",
   "execution_count": 287,
   "metadata": {},
   "outputs": [
    {
     "name": "stdout",
     "output_type": "stream",
     "text": [
      "['ONE', 'THREE', 'TWO']\n"
     ]
    }
   ],
   "source": [
    "print (foo2(\"one\", \"two\", \"three\"))"
   ]
  },
  {
   "cell_type": "code",
   "execution_count": 281,
   "metadata": {},
   "outputs": [
    {
     "name": "stdout",
     "output_type": "stream",
     "text": [
      "['ONE', 'THREE', 'TWO']\n"
     ]
    }
   ],
   "source": [
    "args = ['one', 'three', 'two']\n",
    "ucase = [(x.upper()) for x in args]\n",
    "print (ucase)"
   ]
  },
  {
   "cell_type": "markdown",
   "metadata": {},
   "source": [
    "##### Arbitrary number of keyword attributes"
   ]
  },
  {
   "cell_type": "code",
   "execution_count": 290,
   "metadata": {},
   "outputs": [
    {
     "name": "stdout",
     "output_type": "stream",
     "text": [
      "{'a': 1, 'b': 2, 'c': 3}\n"
     ]
    }
   ],
   "source": [
    "def mean(**kwargs):  # kwargs is the naming convention, use double asterisk for unlimited list\n",
    "    return kwargs    # output is a dictionay\n",
    "\n",
    "print(mean(a=1, b=2, c=3))"
   ]
  },
  {
   "cell_type": "code",
   "execution_count": 291,
   "metadata": {},
   "outputs": [
    {
     "name": "stdout",
     "output_type": "stream",
     "text": [
      "9\n"
     ]
    }
   ],
   "source": [
    "def find_sum(**kwargs):\n",
    "    return sum(kwargs.values())\n",
    "    \n",
    "print(find_sum(a=9))"
   ]
  },
  {
   "cell_type": "markdown",
   "metadata": {},
   "source": [
    "##### Working with Files"
   ]
  },
  {
   "cell_type": "code",
   "execution_count": 296,
   "metadata": {},
   "outputs": [
    {
     "name": "stdout",
     "output_type": "stream",
     "text": [
      "pear\n",
      "apple\n",
      "orange\n",
      "mandarin\n",
      "watermelon\n",
      "pomegranate\n",
      "\n"
     ]
    }
   ],
   "source": [
    "#----------------------------------------------------------\n",
    "#  Reading a text file\n",
    "#----------------------------------------------------------\n",
    "folder_name = 'C:/Users/jrwel/Documents/Udemy/Python Mega Course/Data/'\n",
    "file_name = 'fruits.txt'\n",
    "file = folder_name + file_name\n",
    "myfile = open(file)\n",
    "print(myfile.read())"
   ]
  },
  {
   "cell_type": "code",
   "execution_count": 297,
   "metadata": {},
   "outputs": [
    {
     "name": "stdout",
     "output_type": "stream",
     "text": [
      "\n"
     ]
    }
   ],
   "source": [
    "print(myfile.read())  # Reading again, cursor will be at eof, print will be empty string"
   ]
  },
  {
   "cell_type": "code",
   "execution_count": 299,
   "metadata": {},
   "outputs": [
    {
     "name": "stdout",
     "output_type": "stream",
     "text": [
      "pear\n",
      "apple\n",
      "orange\n",
      "mandarin\n",
      "watermelon\n",
      "pomegranate\n",
      "\n",
      "pear\n",
      "apple\n",
      "orange\n",
      "mandarin\n",
      "watermelon\n",
      "pomegranate\n",
      "\n"
     ]
    }
   ],
   "source": [
    "#----------------------------------------------------------\n",
    "#  Reading a text file - save content in variable to use \n",
    "#  over and over\n",
    "#----------------------------------------------------------\n",
    "folder_name = 'C:/Users/jrwel/Documents/Udemy/Python Mega Course/Data/'\n",
    "file_name = 'fruits.txt'\n",
    "file = folder_name + file_name\n",
    "myfile = open(file)\n",
    "content = myfile.read()\n",
    "print(content)\n",
    "print (content)"
   ]
  },
  {
   "cell_type": "code",
   "execution_count": 300,
   "metadata": {},
   "outputs": [
    {
     "name": "stdout",
     "output_type": "stream",
     "text": [
      "pear\n",
      "apple\n",
      "orange\n",
      "mandarin\n",
      "watermelon\n",
      "pomegranate\n",
      "\n"
     ]
    }
   ],
   "source": [
    "#------------------------------------------\n",
    "#  close file to clear up memory\n",
    "#------------------------------------------\n",
    "folder_name = 'C:/Users/jrwel/Documents/Udemy/Python Mega Course/Data/'\n",
    "file_name = 'fruits.txt'\n",
    "file = folder_name + file_name\n",
    "myfile = open(file)\n",
    "content = myfile.read()\n",
    "print(content)\n",
    "myfile.close()"
   ]
  },
  {
   "cell_type": "code",
   "execution_count": 301,
   "metadata": {},
   "outputs": [
    {
     "name": "stdout",
     "output_type": "stream",
     "text": [
      "pear\n",
      "apple\n",
      "orange\n",
      "mandarin\n",
      "watermelon\n",
      "pomegranate\n",
      "\n"
     ]
    }
   ],
   "source": [
    "#------------------------------------------\n",
    "#  Reading file with context\n",
    "#  file is closed after 'with' block executes\n",
    "#  Implicit close\n",
    "#------------------------------------------\n",
    "folder_name = 'C:/Users/jrwel/Documents/Udemy/Python Mega Course/Data/'\n",
    "file_name = 'fruits.txt'\n",
    "file = folder_name + file_name\n",
    "\n",
    "with open(file) as myfile:\n",
    "        content = myfile.read()\n",
    "\n",
    "print(content)\n"
   ]
  },
  {
   "cell_type": "code",
   "execution_count": 304,
   "metadata": {},
   "outputs": [],
   "source": [
    "#-------------------------------------------\n",
    "#  writing to a file\n",
    "#-------------------------------------------\n",
    "folder_name = 'C:/Users/jrwel/Documents/Udemy/Python Mega Course/Data/'\n",
    "file_name = 'vegetables.txt'\n",
    "file = folder_name + file_name\n",
    "\n",
    "with open(file, 'w') as myfile:\n",
    "        content = myfile.write('Tomatoe')\n",
    "        "
   ]
  },
  {
   "cell_type": "code",
   "execution_count": 305,
   "metadata": {},
   "outputs": [],
   "source": [
    "#-------------------------------------------\n",
    "#  writing to a file\n",
    "#  with newline '/n'\n",
    "#-------------------------------------------\n",
    "folder_name = 'C:/Users/jrwel/Documents/Udemy/Python Mega Course/Data/'\n",
    "file_name = 'vegetables.txt'\n",
    "file = folder_name + file_name\n",
    "\n",
    "with open(file, 'w') as myfile:\n",
    "        content = myfile.write('Tomatoe\\nOnions\\nCucumbers')\n",
    "        "
   ]
  },
  {
   "cell_type": "code",
   "execution_count": 311,
   "metadata": {},
   "outputs": [
    {
     "name": "stdout",
     "output_type": "stream",
     "text": [
      "Tomatoe\n",
      "Onions\n",
      "Cucumbers\n"
     ]
    }
   ],
   "source": [
    "folder_name = 'C:/Users/jrwel/Documents/Udemy/Python Mega Course/Data/'\n",
    "file_name = 'vegetables.txt'\n",
    "file = folder_name + file_name\n",
    "\n",
    "with open(file, 'r') as myfile:\n",
    "        content = myfile.read()\n",
    "        \n",
    "print(content[0:90])  # - Print first 90 characters of the file"
   ]
  },
  {
   "cell_type": "code",
   "execution_count": 317,
   "metadata": {},
   "outputs": [],
   "source": [
    "def find_char(in_char, full_file):\n",
    "    with open(full_file, 'r') as myfile:\n",
    "        content = myfile.read()\n",
    "        count = content.count(in_char)\n",
    "        return count\n"
   ]
  },
  {
   "cell_type": "code",
   "execution_count": 318,
   "metadata": {},
   "outputs": [
    {
     "name": "stdout",
     "output_type": "stream",
     "text": [
      "2\n"
     ]
    }
   ],
   "source": [
    "print(find_char('Onions', file))"
   ]
  },
  {
   "cell_type": "code",
   "execution_count": 321,
   "metadata": {},
   "outputs": [],
   "source": [
    "folder_name = 'C:/Users/jrwel/Documents/Udemy/Python Mega Course/Data/'\n",
    "file_name = 'fruits.txt'\n",
    "fruits = folder_name + file_name\n",
    "\n",
    "file_name = 'first.txt'\n",
    "file_out = folder_name + file_name\n",
    "\n",
    "with open(fruits, 'r') as myfile:\n",
    "        content = myfile.read()\n",
    "with open(file_out, 'w') as myoutfile:\n",
    "        content2 = myoutfile.write(content[0:90])\n",
    "        "
   ]
  },
  {
   "cell_type": "code",
   "execution_count": 325,
   "metadata": {},
   "outputs": [],
   "source": [
    "#-------------------------------------------------\n",
    "#  Appending to a file\n",
    "#-------------------------------------------------\n",
    "folder_name = 'C:/Users/jrwel/Documents/Udemy/Python Mega Course/Data/'\n",
    "file_name = 'fruits.txt'\n",
    "fruits = folder_name + file_name\n",
    "\n",
    "file_name = 'first.txt'\n",
    "file_out = folder_name + file_name\n",
    "new_fruit = '\\nOkra'\n",
    "\n",
    "with open(fruits, 'a') as myfile:\n",
    "        content = myfile.write(new_fruit)\n"
   ]
  },
  {
   "cell_type": "code",
   "execution_count": 327,
   "metadata": {},
   "outputs": [
    {
     "name": "stdout",
     "output_type": "stream",
     "text": [
      "pear\n",
      "apple\n",
      "orange\n",
      "mandarin\n",
      "watermelon\n",
      "pomegranateOkra\n",
      "Okra\n",
      "Okra\n",
      "Okra\n"
     ]
    }
   ],
   "source": [
    "#-------------------------------------------------\n",
    "#  Appending to a file then reading from the \n",
    "#  same file: Use 'a+', and seek(0) to reset cursor\n",
    "#-------------------------------------------------\n",
    "folder_name = 'C:/Users/jrwel/Documents/Udemy/Python Mega Course/Data/'\n",
    "file_name = 'fruits.txt'\n",
    "fruits = folder_name + file_name\n",
    "\n",
    "file_name = 'first.txt'\n",
    "file_out = folder_name + file_name\n",
    "new_fruit = '\\nOkra'\n",
    "\n",
    "with open(fruits, 'a+') as myfile:\n",
    "        content = myfile.write(new_fruit)\n",
    "        myfile.seek(0)\n",
    "        content = myfile.read()\n",
    "\n",
    "print (content)"
   ]
  },
  {
   "cell_type": "code",
   "execution_count": 335,
   "metadata": {},
   "outputs": [
    {
     "name": "stdout",
     "output_type": "stream",
     "text": [
      "Two\n",
      "ThreeOneOne\n"
     ]
    }
   ],
   "source": [
    "#-------------------------------------------------\n",
    "#  Read \"file1\" and append the data in \"file1\"\n",
    "#  into \"file2\". Print data in \"file2\".\n",
    "#-------------------------------------------------\n",
    "folder_name = 'C:/Users/jrwel/Documents/Udemy/Python Mega Course/Data/'\n",
    "file_name = 'file1.txt'\n",
    "file1 = folder_name + file_name\n",
    "\n",
    "file_name = 'file2.txt'\n",
    "file2= folder_name + file_name\n",
    "\n",
    "with open(file1, 'r') as myfile1:\n",
    "        content1 = myfile1.read()\n",
    "\n",
    "with open(file2, 'a+') as myfile2:\n",
    "        content2 = myfile2.write(content1)\n",
    "        myfile2.seek(0)\n",
    "        content2 = myfile2.read()\n",
    "\n",
    "print (content2)\n",
    "content2 = myfile1.close()"
   ]
  },
  {
   "cell_type": "markdown",
   "metadata": {},
   "source": [
    "##### Built-in Modules"
   ]
  },
  {
   "cell_type": "code",
   "execution_count": 338,
   "metadata": {},
   "outputs": [
    {
     "name": "stdout",
     "output_type": "stream",
     "text": [
      "One\n",
      "One\n",
      "One\n",
      "One\n",
      "One\n",
      "One\n",
      "One\n",
      "One\n",
      "One\n",
      "One\n",
      "One\n"
     ]
    }
   ],
   "source": [
    "folder_name = 'C:/Users/jrwel/Documents/Udemy/Python Mega Course/Data/'\n",
    "file_name = 'file1.txt'\n",
    "file1 = folder_name + file_name\n",
    "x = 0\n",
    "\n",
    "while True:\n",
    "    with open(file1, 'r') as myfile1:\n",
    "        print (myfile1.read())\n",
    "        x = x +1\n",
    "        if x > 10:\n",
    "            break\n",
    "\n",
    "        "
   ]
  },
  {
   "cell_type": "code",
   "execution_count": 331,
   "metadata": {},
   "outputs": [
    {
     "data": {
      "text/plain": [
       "('_abc',\n",
       " '_ast',\n",
       " '_bisect',\n",
       " '_blake2',\n",
       " '_codecs',\n",
       " '_codecs_cn',\n",
       " '_codecs_hk',\n",
       " '_codecs_iso2022',\n",
       " '_codecs_jp',\n",
       " '_codecs_kr',\n",
       " '_codecs_tw',\n",
       " '_collections',\n",
       " '_contextvars',\n",
       " '_csv',\n",
       " '_datetime',\n",
       " '_functools',\n",
       " '_heapq',\n",
       " '_imp',\n",
       " '_io',\n",
       " '_json',\n",
       " '_locale',\n",
       " '_lsprof',\n",
       " '_md5',\n",
       " '_multibytecodec',\n",
       " '_opcode',\n",
       " '_operator',\n",
       " '_pickle',\n",
       " '_random',\n",
       " '_sha1',\n",
       " '_sha256',\n",
       " '_sha3',\n",
       " '_sha512',\n",
       " '_signal',\n",
       " '_sre',\n",
       " '_stat',\n",
       " '_statistics',\n",
       " '_string',\n",
       " '_struct',\n",
       " '_symtable',\n",
       " '_thread',\n",
       " '_tracemalloc',\n",
       " '_warnings',\n",
       " '_weakref',\n",
       " '_winapi',\n",
       " '_xxsubinterpreters',\n",
       " 'array',\n",
       " 'atexit',\n",
       " 'audioop',\n",
       " 'binascii',\n",
       " 'builtins',\n",
       " 'cmath',\n",
       " 'errno',\n",
       " 'faulthandler',\n",
       " 'gc',\n",
       " 'itertools',\n",
       " 'marshal',\n",
       " 'math',\n",
       " 'mmap',\n",
       " 'msvcrt',\n",
       " 'nt',\n",
       " 'parser',\n",
       " 'sys',\n",
       " 'time',\n",
       " 'winreg',\n",
       " 'xxsubtype',\n",
       " 'zlib')"
      ]
     },
     "execution_count": 331,
     "metadata": {},
     "output_type": "execute_result"
    }
   ],
   "source": [
    "import sys\n",
    "sys.builtin_module_names"
   ]
  },
  {
   "cell_type": "code",
   "execution_count": 339,
   "metadata": {},
   "outputs": [
    {
     "data": {
      "text/plain": [
       "['_STRUCT_TM_ITEMS',\n",
       " '__doc__',\n",
       " '__loader__',\n",
       " '__name__',\n",
       " '__package__',\n",
       " '__spec__',\n",
       " 'altzone',\n",
       " 'asctime',\n",
       " 'ctime',\n",
       " 'daylight',\n",
       " 'get_clock_info',\n",
       " 'gmtime',\n",
       " 'localtime',\n",
       " 'mktime',\n",
       " 'monotonic',\n",
       " 'monotonic_ns',\n",
       " 'perf_counter',\n",
       " 'perf_counter_ns',\n",
       " 'process_time',\n",
       " 'process_time_ns',\n",
       " 'sleep',\n",
       " 'strftime',\n",
       " 'strptime',\n",
       " 'struct_time',\n",
       " 'thread_time',\n",
       " 'thread_time_ns',\n",
       " 'time',\n",
       " 'time_ns',\n",
       " 'timezone',\n",
       " 'tzname']"
      ]
     },
     "execution_count": 339,
     "metadata": {},
     "output_type": "execute_result"
    }
   ],
   "source": [
    "import time\n",
    "dir(time)"
   ]
  },
  {
   "cell_type": "code",
   "execution_count": 340,
   "metadata": {},
   "outputs": [
    {
     "name": "stdout",
     "output_type": "stream",
     "text": [
      "Help on built-in function sleep in module time:\n",
      "\n",
      "sleep(...)\n",
      "    sleep(seconds)\n",
      "    \n",
      "    Delay execution for a given number of seconds.  The argument may be\n",
      "    a floating point number for subsecond precision.\n",
      "\n"
     ]
    }
   ],
   "source": [
    "help(time.sleep)"
   ]
  },
  {
   "cell_type": "code",
   "execution_count": 342,
   "metadata": {},
   "outputs": [
    {
     "name": "stdout",
     "output_type": "stream",
     "text": [
      "One\n",
      "One\n",
      "One\n",
      "One\n",
      "One\n",
      "One\n",
      "One\n",
      "One\n",
      "One\n",
      "One\n",
      "One\n"
     ]
    }
   ],
   "source": [
    "folder_name = 'C:/Users/jrwel/Documents/Udemy/Python Mega Course/Data/'\n",
    "file_name = 'file1.txt'\n",
    "file1 = folder_name + file_name\n",
    "x = 0\n",
    "\n",
    "while True:\n",
    "    with open(file1, 'r') as myfile1:\n",
    "        print (myfile1.read())\n",
    "        time.sleep(4)\n",
    "        x = x +1\n",
    "        if x > 10:\n",
    "            break\n",
    "\n",
    "       "
   ]
  },
  {
   "cell_type": "markdown",
   "metadata": {},
   "source": [
    "##### Standard Python Modules"
   ]
  },
  {
   "cell_type": "code",
   "execution_count": 343,
   "metadata": {},
   "outputs": [
    {
     "data": {
      "text/plain": [
       "'C:\\\\Users\\\\jrwel\\\\anaconda3'"
      ]
     },
     "execution_count": 343,
     "metadata": {},
     "output_type": "execute_result"
    }
   ],
   "source": [
    "#-------------------------------------\n",
    "# Standard Operating System Module\n",
    "#   os\n",
    "#\n",
    "#   List where module files are located\n",
    "#-------------------------------------\n",
    "import os\n",
    "sys.prefix"
   ]
  },
  {
   "cell_type": "code",
   "execution_count": null,
   "metadata": {},
   "outputs": [],
   "source": []
  },
  {
   "cell_type": "markdown",
   "metadata": {},
   "source": [
    "##### Third-Party Modules"
   ]
  },
  {
   "cell_type": "code",
   "execution_count": 346,
   "metadata": {},
   "outputs": [
    {
     "name": "stdout",
     "output_type": "stream",
     "text": [
      "st1,st2\n",
      "23.3,22.1\n",
      "24.0,23.1\n",
      "22.1,20.2\n",
      "19.1,16.8\n",
      "st1,st2\n",
      "23.3,22.1\n",
      "24.0,23.1\n",
      "22.1,20.2\n",
      "19.1,16.8\n",
      "st1,st2\n",
      "23.3,22.1\n",
      "24.0,23.1\n",
      "22.1,20.2\n",
      "19.1,16.8\n",
      "st1,st2\n",
      "23.3,22.1\n",
      "24.0,23.1\n",
      "22.1,20.2\n",
      "19.1,16.8\n",
      "st1,st2\n",
      "23.3,22.1\n",
      "24.0,23.1\n",
      "22.1,20.2\n",
      "19.1,16.8\n",
      "st1,st2\n",
      "23.3,22.1\n",
      "24.0,23.1\n",
      "22.1,20.2\n",
      "19.1,16.8\n"
     ]
    }
   ],
   "source": [
    "import time\n",
    "import os\n",
    "import pandas\n",
    "\n",
    "folder_name = 'C:/Users/jrwel/Documents/Udemy/Python Mega Course/Data/'\n",
    "file_name = 'temps_today.csv'\n",
    "file_in = folder_name + file_name\n",
    "x = 0\n",
    "\n",
    "while True:\n",
    "    if os.path.exists(file_in):\n",
    "        with open(file_in) as file:\n",
    "            print(file.read())\n",
    "    else:\n",
    "        print (\"File does not exist\")\n",
    "    x = x +1\n",
    "    if x > 5:\n",
    "        break\n",
    "    time.sleep(2)\n",
    "    \n"
   ]
  },
  {
   "cell_type": "code",
   "execution_count": 348,
   "metadata": {},
   "outputs": [
    {
     "name": "stdout",
     "output_type": "stream",
     "text": [
      "st1    22.125\n",
      "st2    20.550\n",
      "dtype: float64\n",
      "st1    22.125\n",
      "st2    20.550\n",
      "dtype: float64\n",
      "st1    22.125\n",
      "st2    20.550\n",
      "dtype: float64\n",
      "st1    22.125\n",
      "st2    20.550\n",
      "dtype: float64\n",
      "st1    22.125\n",
      "st2    20.550\n",
      "dtype: float64\n",
      "st1    22.125\n",
      "st2    20.550\n",
      "dtype: float64\n"
     ]
    }
   ],
   "source": [
    "#-------------------------------------------------------------------\n",
    "#  Using pandas to read CSV file, calculate mean of the columns\n",
    "#-------------------------------------------------------------------\n",
    "import time\n",
    "import os\n",
    "import pandas\n",
    "\n",
    "folder_name = 'C:/Users/jrwel/Documents/Udemy/Python Mega Course/Data/'\n",
    "file_name = 'temps_today.csv'\n",
    "file_in = folder_name + file_name\n",
    "x = 0\n",
    "\n",
    "while True:\n",
    "    if os.path.exists(file_in):\n",
    "        data = pandas.read_csv(file_in)\n",
    "        print(data.mean())          # - Mean of all columns\n",
    "#       print(data.mean()[\"st1\"])   # - Mean of only the ST1 column\n",
    "    else:\n",
    "        print (\"File does not exist\")\n",
    "    x = x +1\n",
    "    if x > 5:\n",
    "        break\n",
    "    time.sleep(2)"
   ]
  },
  {
   "cell_type": "code",
   "execution_count": null,
   "metadata": {},
   "outputs": [],
   "source": []
  },
  {
   "cell_type": "code",
   "execution_count": null,
   "metadata": {},
   "outputs": [],
   "source": []
  },
  {
   "cell_type": "code",
   "execution_count": null,
   "metadata": {},
   "outputs": [],
   "source": []
  },
  {
   "cell_type": "code",
   "execution_count": null,
   "metadata": {},
   "outputs": [],
   "source": []
  },
  {
   "cell_type": "code",
   "execution_count": null,
   "metadata": {},
   "outputs": [],
   "source": []
  },
  {
   "cell_type": "code",
   "execution_count": null,
   "metadata": {},
   "outputs": [],
   "source": []
  }
 ],
 "metadata": {
  "kernelspec": {
   "display_name": "Python 3",
   "language": "python",
   "name": "python3"
  },
  "language_info": {
   "codemirror_mode": {
    "name": "ipython",
    "version": 3
   },
   "file_extension": ".py",
   "mimetype": "text/x-python",
   "name": "python",
   "nbconvert_exporter": "python",
   "pygments_lexer": "ipython3",
   "version": "3.8.3"
  }
 },
 "nbformat": 4,
 "nbformat_minor": 4
}
