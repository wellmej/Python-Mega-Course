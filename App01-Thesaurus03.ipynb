{
 "cells": [
  {
   "cell_type": "markdown",
   "metadata": {},
   "source": [
    "#### App-01:  Thesaurus Application III\n",
    "\n",
    "##### Enter a word and return the definition\n",
    "\n",
    "#### Improve by connecting to and reading from a remote database"
   ]
  },
  {
   "cell_type": "code",
   "execution_count": 28,
   "metadata": {},
   "outputs": [
    {
     "name": "stdout",
     "output_type": "stream",
     "text": [
      "What word do you want to check? fuck\n",
      "fuck : To take part in sexual activity (most commonly sexual intercourse) with another person for the purposes of sexual pleasure.\n"
     ]
    }
   ],
   "source": [
    "#------------------------------------------------\n",
    "# Import necessary libraries\n",
    "#------------------------------------------------\n",
    "import json\n",
    "import difflib\n",
    "from difflib import SequenceMatcher\n",
    "from difflib import get_close_matches\n",
    "\n",
    "import mysql.connector\n",
    "\n",
    "#---------------------------------------------------------------\n",
    "# Connect to database\n",
    "#---------------------------------------------------------------\n",
    "con = mysql.connector.connect(\n",
    "user = \"ardit700_student\",\n",
    "password = \"ardit700_student\",\n",
    "host = \"108.167.140.122\",\n",
    "database = \"ardit700_pm1database\")\n",
    "\n",
    "cursor = con.cursor()\n",
    " \n",
    "def word_definition () :\n",
    "    word = input(\"What word do you want to check? \")\n",
    "    cursor.execute(\"SELECT * FROM Dictionary WHERE Expression = '%s' \" %word)\n",
    "    results = cursor.fetchall()\n",
    " \n",
    "    if results :\n",
    "        for result in results :\n",
    "            print (\"%s : %s\" %(result[0], result[1]))\n",
    "    else:\n",
    "        cursor.execute(\"SELECT Expression FROM Dictionary\")\n",
    "        results = [result[0] for result in cursor.fetchall()]\n",
    "        match = get_close_matches(word, results, 1)\n",
    "        print (results[0])\n",
    "        Y_N = input(\"Did you mean %s? Y for yes or N for no: \" %match[0])\n",
    "        if Y_N.upper() == \"Y\" :\n",
    "            query = cursor.execute(\"SELECT * FROM Dictionary where Expression = '%s' \" %match[0])\n",
    "            results = cursor.fetchall()\n",
    "            for result in results :\n",
    "                print (\"%s : %s\" %(result[0], result[1]))\n",
    "        else :\n",
    "            print (\"No such word in database.\")\n",
    "\n",
    "word_definition()"
   ]
  },
  {
   "cell_type": "code",
   "execution_count": null,
   "metadata": {},
   "outputs": [],
   "source": []
  },
  {
   "cell_type": "code",
   "execution_count": null,
   "metadata": {},
   "outputs": [],
   "source": []
  },
  {
   "cell_type": "code",
   "execution_count": null,
   "metadata": {},
   "outputs": [],
   "source": []
  },
  {
   "cell_type": "code",
   "execution_count": null,
   "metadata": {},
   "outputs": [],
   "source": []
  },
  {
   "cell_type": "code",
   "execution_count": null,
   "metadata": {},
   "outputs": [],
   "source": []
  },
  {
   "cell_type": "code",
   "execution_count": null,
   "metadata": {},
   "outputs": [],
   "source": []
  }
 ],
 "metadata": {
  "kernelspec": {
   "display_name": "Python 3",
   "language": "python",
   "name": "python3"
  },
  "language_info": {
   "codemirror_mode": {
    "name": "ipython",
    "version": 3
   },
   "file_extension": ".py",
   "mimetype": "text/x-python",
   "name": "python",
   "nbconvert_exporter": "python",
   "pygments_lexer": "ipython3",
   "version": "3.8.3"
  }
 },
 "nbformat": 4,
 "nbformat_minor": 4
}
