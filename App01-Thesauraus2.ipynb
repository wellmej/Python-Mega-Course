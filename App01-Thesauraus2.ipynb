{
 "cells": [
  {
   "cell_type": "markdown",
   "metadata": {},
   "source": [
    "#### App-01:  Thesaurus Application II\n",
    "\n",
    "##### Enter a word and return the definition\n",
    "\n",
    "#### Improve by connecting to and reading from a remote database"
   ]
  },
  {
   "cell_type": "code",
   "execution_count": 1,
   "metadata": {},
   "outputs": [],
   "source": [
    "#------------------------------------------------\n",
    "# Import necessary libraries\n",
    "#------------------------------------------------\n",
    "import json\n",
    "import difflib\n",
    "from difflib import SequenceMatcher\n",
    "\n",
    "import mysql.connector"
   ]
  },
  {
   "cell_type": "code",
   "execution_count": 22,
   "metadata": {},
   "outputs": [],
   "source": [
    "#---------------------------------------------------------------\n",
    "# Connect to database\n",
    "#---------------------------------------------------------------\n",
    "con = mysql.connector.connect(\n",
    "user = \"ardit700_student\",\n",
    "password = \"ardit700_student\",\n",
    "host = \"108.167.140.122\",\n",
    "database = \"ardit700_pm1database\")"
   ]
  },
  {
   "cell_type": "code",
   "execution_count": 19,
   "metadata": {},
   "outputs": [
    {
     "name": "stdout",
     "output_type": "stream",
     "text": [
      "[('is part of theme', 'An entry in a thesaurus or dictionary that is associated with a theme'), ('abandoned industrial site', 'Site that cannot be used for any purpose, being contaminated by pollutants.'), ('abandoned vehicle', 'A vehicle that has been discarded in the environment, urban or otherwise, often found wrecked, destroyed, damaged or with a major component part stolen or missing.'), ('abiotic factor', 'Physical, chemical and other non-living environmental factor.'), ('access road', 'Any street or narrow stretch of paved surface that leads to a specific destination, such as a main highway.'), ('access to the sea', 'The ability to bring goods to and from a port that is able to harbor sea faring vessels.'), ('accident', 'An unexpected, unfortunate mishap, failure or loss with the potential for harming human life, property or the environment.'), ('accident', 'An event that happens suddenly or by chance without an apparent cause.'), ('accumulator', 'A rechargeable device for storing electrical energy in the form of chemical energy, consisting of one or more separate secondary cells.\\\\n(Source: CED)'), ('acidification', 'Addition of an acid to a solution until the pH falls below 7.')]\n"
     ]
    }
   ],
   "source": [
    "cursor = con.cursor()\n",
    "query = cursor.execute(\"SELECT * FROM Dictionary\")\n",
    "results = cursor.fetchall()\n",
    "print(results[0:10])"
   ]
  },
  {
   "cell_type": "code",
   "execution_count": 20,
   "metadata": {},
   "outputs": [
    {
     "name": "stdout",
     "output_type": "stream",
     "text": [
      "[('line', 'Term used in GIS technologies in the vector type of internal data organization: spatial data are divided into point, line and polygon types.'), ('line', 'The descendants of one individual.'), ('line', 'A succession of notes forming a distinctive sequence.'), ('line', 'A measure of length equal to one twelfth of an inch.'), ('line', 'An infinitely long, infinitely thin, not bent line in geometry.'), ('line', 'A mark that is long relative to its width.')]\n"
     ]
    }
   ],
   "source": [
    "cursor = con.cursor()\n",
    "\n",
    "word = input(\"Enter word: \")\n",
    "\n",
    "#query = cursor.execute(\"SELECT * FROM Dictionary WHERE Expression = 'inlay' \")\n",
    "query = cursor.execute(\"SELECT * FROM Dictionary WHERE Expression = 'line' \")\n",
    "results = cursor.fetchall()\n",
    "print(results)"
   ]
  },
  {
   "cell_type": "code",
   "execution_count": 21,
   "metadata": {},
   "outputs": [],
   "source": [
    "cursor = con.cursor()\n",
    "#query = cursor.execute(\"SELECT * FROM Dictionary WHERE Expression = 'inlay' \")\n",
    "query = cursor.execute(\"SELECT * FROM Dictionary WHERE Expression = 'xline' \")\n",
    "results = cursor.fetchall()\n",
    "for result in results:\n",
    "    if results:\n",
    "        print(result[1])\n",
    "    else:\n",
    "        print (\"Word not found!\")"
   ]
  },
  {
   "cell_type": "code",
   "execution_count": 25,
   "metadata": {},
   "outputs": [
    {
     "name": "stdout",
     "output_type": "stream",
     "text": [
      "Enter word: fire\n",
      "The state of combustion in which inflammable material burns, producing heat, flames and often smoke.\n",
      "An unwanted and uncontrolled burning of matter.\n",
      "Intense adverse criticism.\n",
      "To terminate the employment of one or more employees.\n",
      "Uncontrolled burning, conflagration.\n"
     ]
    }
   ],
   "source": [
    "cursor = con.cursor()\n",
    "\n",
    "word = input(\"Enter word: \")\n",
    "\n",
    "query = cursor.execute(\"SELECT * FROM Dictionary WHERE Expression = '%s' \" %word)\n",
    "results = cursor.fetchall()\n",
    "for result in results:\n",
    "    if results:\n",
    "        print(result[1])\n",
    "    else:\n",
    "        print (\"Word not found!\")"
   ]
  },
  {
   "cell_type": "code",
   "execution_count": null,
   "metadata": {},
   "outputs": [],
   "source": []
  },
  {
   "cell_type": "code",
   "execution_count": null,
   "metadata": {},
   "outputs": [],
   "source": []
  },
  {
   "cell_type": "code",
   "execution_count": null,
   "metadata": {},
   "outputs": [],
   "source": []
  },
  {
   "cell_type": "code",
   "execution_count": null,
   "metadata": {},
   "outputs": [],
   "source": []
  },
  {
   "cell_type": "code",
   "execution_count": null,
   "metadata": {},
   "outputs": [],
   "source": []
  },
  {
   "cell_type": "code",
   "execution_count": null,
   "metadata": {},
   "outputs": [],
   "source": []
  }
 ],
 "metadata": {
  "kernelspec": {
   "display_name": "Python 3",
   "language": "python",
   "name": "python3"
  },
  "language_info": {
   "codemirror_mode": {
    "name": "ipython",
    "version": 3
   },
   "file_extension": ".py",
   "mimetype": "text/x-python",
   "name": "python",
   "nbconvert_exporter": "python",
   "pygments_lexer": "ipython3",
   "version": "3.8.3"
  }
 },
 "nbformat": 4,
 "nbformat_minor": 4
}
