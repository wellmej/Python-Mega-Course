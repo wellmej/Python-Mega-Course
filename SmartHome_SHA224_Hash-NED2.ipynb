{
 "cells": [
  {
   "cell_type": "code",
   "execution_count": null,
   "metadata": {},
   "outputs": [],
   "source": [
    "#----------------------------------------------------------------\n",
    "# Important!!! - This Module will take a 13 digit\n",
    "#                display policy number with term and remove the\n",
    "#                term from the display policy number.\n",
    "#                Example: Convert \"HO00169861-02\" to \"HO00169861\"\n",
    "#                       before hashing the policy number.\n",
    "#----------------------------------------------------------------\n",
    "\n",
    "\n",
    "#----------------------------------------------------------------\n",
    "# Import Necessary Libraries for CSV File and Hash Processing\n",
    "#----------------------------------------------------------------\n",
    "\n",
    "# SHA hash algorithms. \n",
    "  \n",
    "import hashlib \n",
    "import csv\n",
    "\n",
    "import numpy as np\n",
    "import pandas as pd\n",
    "import os\n",
    "#import seaborn as sns"
   ]
  },
  {
   "cell_type": "code",
   "execution_count": null,
   "metadata": {},
   "outputs": [],
   "source": [
    "#---------------------------------------------------------------------------\n",
    "# List files in a Directory/Folder with a given file extension\n",
    "#---------------------------------------------------------------------------\n",
    "\n",
    "ext = '.txt'\n",
    "\n",
    "#set to your working directory\n",
    "dir_path = 'C:/Users/wellmej/OneDrive - Nationwide/Documents/PLD-SmartRide/SmartHome/2019 PID Info/Project Details/Data/Notion/'\n",
    "\n",
    "os.chdir(dir_path)\n",
    "print(\"Current Working Directory \" , os.getcwd())\n",
    "files = os.listdir(dir_path)\n",
    "for f in files:\n",
    "  if f.endswith(ext):\n",
    "    print(\"File: \" , f)\n",
    "#    data = open(f)\n",
    "#    out = open(results, 'a')\n",
    "#    for l in data:\n",
    "#      print(l, file=out)\n",
    "#    data.close()\n",
    "#    out.close"
   ]
  },
  {
   "cell_type": "code",
   "execution_count": null,
   "metadata": {},
   "outputs": [],
   "source": [
    "print(\"Current Working Directory \" , os.getcwd())\n",
    "from tkinter.filedialog import askopenfilename\n",
    "selected_filename = askopenfilename(initialdir = dir_path, title = \"Select file\",filetypes = ((\"text files\",\"*.txt\"),(\"all files\",\"*.*\")))"
   ]
  },
  {
   "cell_type": "code",
   "execution_count": null,
   "metadata": {},
   "outputs": [],
   "source": [
    "print (\"Selected File name: \", selected_filename)"
   ]
  },
  {
   "cell_type": "code",
   "execution_count": null,
   "metadata": {},
   "outputs": [],
   "source": [
    "from tkinter import filedialog\n",
    "from tkinter import *\n",
    "\n",
    "root = Tk()\n",
    "root.filename =  filedialog.asksaveasfilename(initialdir = dir_path, title = \"Select file\",filetypes = ((\"text files\",\"*.txt\"),(\"all files\",\"*.*\")))\n",
    "print (root.filename)\n",
    "save_filename = root.filename"
   ]
  },
  {
   "cell_type": "code",
   "execution_count": null,
   "metadata": {},
   "outputs": [],
   "source": [
    "print (\"Selected File name: \", save_filename)"
   ]
  },
  {
   "cell_type": "code",
   "execution_count": null,
   "metadata": {},
   "outputs": [],
   "source": [
    "#----------------------------------------------------------------\n",
    "# Read CSV file into dataframe - For Future use only\n",
    "#----------------------------------------------------------------\n",
    "\n",
    "# Define the headers if necessary\n",
    "#----------------------------------------\n",
    "# NOTE: MTCARS_CSV has headers defined\n",
    "#----------------------------------------\n",
    "#headers = [\"symboling\", \"normalized_losses\", \"make\", \"fuel_type\", \"aspiration\",\n",
    "#           \"num_doors\", \"body_style\", \"drive_wheels\", \"engine_location\",\n",
    "#           \"wheel_base\", \"length\", \"width\", \"height\", \"curb_weight\",\n",
    "#           \"engine_type\", \"num_cylinders\", \"engine_size\", \"fuel_system\",\n",
    "#           \"bore\", \"stroke\", \"compression_ratio\", \"horsepower\", \"peak_rpm\",\n",
    "#           \"city_mpg\", \"highway_mpg\", \"price\"]\n",
    "\n",
    "# Read in the CSV file and convert \"?\" to NaN\n",
    "\n",
    "#C:\\Users\\wellmej\\OneDrive - Nationwide\\Documents\\PLD-SmartRide\\SmartHome\\2019 PID Info\\Project Details\\Data\\Notion\n",
    "#in_file = \"C:/Users/wellmej/OneDrive - Nationwide/Documents/PLD-SmartRide/SmartHome/2019 PID Info/Project Details/Data/Notion/Ned_test1.txt\"\n",
    "#out_file = \"C:/Users/wellmej/OneDrive - Nationwide/Documents/PLD-SmartRide/SmartHome/2019 PID Info/Project Details/Data/Notion/Ned_test1_hash.txt\"\n",
    "in_file = selected_filename\n",
    "#out_file = \"hashed_value_\" + selected_filename\n",
    "out_file = save_filename\n",
    "#in_file = \"C:/Users/wellmej/Documents/PLD-SmartRide/SmartHome/2019 PID Info/Project Details/Data/Notion/Ned_test1.txt\"\n",
    "df_raw = pd.read_csv(in_file, na_values=\"?\", header=None )\n",
    "\n",
    "#                     header=None, names=headers, na_values=\"?\" )\n",
    "\n",
    "# Define a list of models that we want to review\n",
    "#models = [\"toyota\",\"nissan\",\"mazda\", \"honda\", \"mitsubishi\", \"subaru\", \"volkswagen\", \"volvo\"]\n",
    "\n",
    "# Create a copy of the data with only the top 8 manufacturers\n",
    "#df = df_raw[df_raw.make.isin(models)].copy()\n",
    "\n",
    "# Create a copy of the data with all models\n",
    "policy_in_df = df_raw\n",
    "\n",
    "policy_in_df.head(10)"
   ]
  },
  {
   "cell_type": "code",
   "execution_count": null,
   "metadata": {},
   "outputs": [],
   "source": [
    "#----------------------------------------------------------------\n",
    "# Important!!! - Do not run code below - it is for test only\n",
    "#----------------------------------------------------------------\n",
    "\n",
    "#display_policy_number = \"HO00169861-02\"\n",
    "#policy_number = display_policy_number[0:10]\n",
    "#\n",
    "#print ('display_policy_number', display_policy_number, \"<\")\n",
    "#print (\"Policy:\", policy_number, \"<\")"
   ]
  },
  {
   "cell_type": "code",
   "execution_count": null,
   "metadata": {},
   "outputs": [],
   "source": [
    "#----------------------------------------------------------------\n",
    "# 1. Open Output CSV file to write Policy and Hashed data to. Set newline to null to avoid writing blank lines.\n",
    "# 2. Read thru CSV inpiut file for each row\n",
    "# 3. For each row, Hash the policy number, and capture last\n",
    "#    8 characters of the hashed result\n",
    "# 4. Write CSV output file for each new row with:\n",
    "#    a. Input Policy Number\n",
    "#    b. Hash SHA224 Result of Policy Number\n",
    "#    c. Last 8 characters of Hash result (Activation Code)\n",
    "#----------------------------------------------------------------\n",
    "\n",
    "with open(out_file, mode='w', newline='') as hash_file_out:\n",
    "      hash_file = csv.writer(hash_file_out, delimiter=',', quotechar='\"', quoting=csv.QUOTE_MINIMAL)\n",
    "        \n",
    "      policy_in = open(in_file)\n",
    "      policy_in_csv = csv.reader(policy_in)\n",
    "      row_index = 0\n",
    "\n",
    "#----------------------------------------------------------------\n",
    "# For each input row, read the Policy_Number, hash it using\n",
    "# SHA224 alogrithm, capture last 8 characters of the hash, and\n",
    "# write Policy_Number, Full Hash, and Last 8 Hash to new\n",
    "# output CSV file.\n",
    "#----------------------------------------------------------------\n",
    "      for row in policy_in_csv:\n",
    "        print (row[row_index])\n",
    "        row_new = row\n",
    "        display_policy_number = row[row_index]\n",
    "        policy_number = display_policy_number[0:10]\n",
    "#\n",
    "# encoding <Policy_number> using encode() \n",
    "# then sending to SHA224() \n",
    "        result = hashlib.sha224(policy_number.encode()) \n",
    "  \n",
    "# printing the equivalent hexadecimal value. \n",
    "        print(\"The hexadecimal equivalent of SHA224 is : \")  \n",
    "        print(result.hexdigest()) \n",
    "\n",
    "#        row_new.append(result.hexdigest()[48:] + \"-jrw\")\n",
    "        row_new.append(result.hexdigest()[48:])        \n",
    "        row_new.append(result.hexdigest())\n",
    "        row_new.append(policy_number)\n",
    "        \n",
    "        print (row_new)\n",
    "               \n",
    "#----------------------------------------------------------------\n",
    "#      Write out new CSV row\n",
    "#----------------------------------------------------------------\n",
    "        hash_file.writerow(row_new)\n",
    "    \n",
    "        print (\"\\r\") \n",
    "#\n",
    "# End\n",
    "#"
   ]
  },
  {
   "cell_type": "markdown",
   "metadata": {},
   "source": [
    "#### End of Policy SHA224 Hash Function"
   ]
  },
  {
   "cell_type": "code",
   "execution_count": null,
   "metadata": {},
   "outputs": [],
   "source": [
    "#---------------------------------------------------------------------\n",
    "#---------------------------------------------------------------------\n",
    "#  >>>>>  S T O P   H E R E   <<<<<<<\n",
    "#---------------------------------------------------------------------\n",
    "#---------------------------------------------------------------------"
   ]
  },
  {
   "cell_type": "code",
   "execution_count": null,
   "metadata": {},
   "outputs": [],
   "source": []
  },
  {
   "cell_type": "code",
   "execution_count": null,
   "metadata": {},
   "outputs": [],
   "source": []
  },
  {
   "cell_type": "code",
   "execution_count": null,
   "metadata": {},
   "outputs": [],
   "source": []
  },
  {
   "cell_type": "code",
   "execution_count": null,
   "metadata": {},
   "outputs": [],
   "source": []
  },
  {
   "cell_type": "code",
   "execution_count": null,
   "metadata": {},
   "outputs": [],
   "source": [
    "#----------------------------------------------------------------\n",
    "# Read CSV Policy_Number file in for processing\n",
    "#----------------------------------------------------------------\n",
    "policy_in = open(in_file)\n",
    "policy_in_csv = csv.reader(policy_in)\n",
    "row_index = 0\n",
    "hash_list = []\n",
    "\n",
    "#----------------------------------------------------------------\n",
    "# For each input row, read the Policy_Number, hash is using\n",
    "# SHA224 alogrithm, capture last 8 characters of the hash, and\n",
    "# write Policy_Number, Full Hash, and Last 8 Hash to new\n",
    "# output CSV file.\n",
    "#----------------------------------------------------------------\n",
    "for row in policy_in_csv:\n",
    "  print (row[row_index])\n",
    "  row_new = row\n",
    "  policy_number = row[row_index]\n",
    "#\n",
    "# encoding <Policy_number> using encode() \n",
    "# then sending to SHA224() \n",
    "  result = hashlib.sha224(policy_number.encode()) \n",
    "  \n",
    "# printing the equivalent hexadecimal value. \n",
    "  print(\"The hexadecimal equivalent of SHA224 is : \")  \n",
    "  print(result.hexdigest()) \n",
    "\n",
    "  row_new.append(result.hexdigest())\n",
    "  print (row_new)\n",
    "  print (\"\\r\")\n",
    "    \n",
    "#  hash_file.writerow(row_new)\n"
   ]
  },
  {
   "cell_type": "code",
   "execution_count": null,
   "metadata": {},
   "outputs": [],
   "source": [
    "# Write Example\n",
    "\n",
    "\n",
    "#with open(out_file, mode='w') as hash_file_out:\n",
    "#    hash_file = csv.writer(hash_file_out, delimiter=',', quotechar='\"', quoting=csv.QUOTE_MINIMAL)\n",
    "\n",
    "#    hash_file.writerow(row_new)\n"
   ]
  },
  {
   "cell_type": "code",
   "execution_count": null,
   "metadata": {},
   "outputs": [],
   "source": [
    "#------------------------------------\n",
    "# Append Full Hash to List\n",
    "#------------------------------------\n",
    "#attendee_emails = []\n",
    "\n",
    "#for row in csv_f:\n",
    "#  attendee_emails.append(row[2])\n",
    "\n",
    "#print attendee_emails"
   ]
  },
  {
   "cell_type": "code",
   "execution_count": null,
   "metadata": {},
   "outputs": [],
   "source": [
    "#\n",
    "  \n",
    "# initializing string \n",
    "policy_number = \"GeeksforGeeks\"\n",
    "  \n",
    " \n",
    "# encoding <Policy_number> using encode() \n",
    "# then sending to SHA224() \n",
    "result = hashlib.sha224(policy_number.encode()) \n",
    "  \n",
    "# printing the equivalent hexadecimal value. \n",
    "print(\"The hexadecimal equivalent of SHA224 is : \") \n",
    "print(result.hexdigest()) \n",
    "  \n",
    "print (\"\\r\") \n",
    "  "
   ]
  },
  {
   "cell_type": "code",
   "execution_count": null,
   "metadata": {},
   "outputs": [],
   "source": []
  }
 ],
 "metadata": {
  "kernelspec": {
   "display_name": "Python 3",
   "language": "python",
   "name": "python3"
  },
  "language_info": {
   "codemirror_mode": {
    "name": "ipython",
    "version": 3
   },
   "file_extension": ".py",
   "mimetype": "text/x-python",
   "name": "python",
   "nbconvert_exporter": "python",
   "pygments_lexer": "ipython3",
   "version": "3.5.6"
  }
 },
 "nbformat": 4,
 "nbformat_minor": 2
}
