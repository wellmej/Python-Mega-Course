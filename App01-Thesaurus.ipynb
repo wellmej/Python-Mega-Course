{
 "cells": [
  {
   "cell_type": "markdown",
   "metadata": {},
   "source": [
    "#### App-01:  Thesaurus Application\n",
    "\n",
    "##### Enter a word and return the definition"
   ]
  },
  {
   "cell_type": "code",
   "execution_count": 3,
   "metadata": {},
   "outputs": [],
   "source": [
    "#------------------------------------------------\n",
    "# Import necessary libraries\n",
    "#------------------------------------------------\n",
    "import json"
   ]
  },
  {
   "cell_type": "code",
   "execution_count": 4,
   "metadata": {},
   "outputs": [],
   "source": [
    "#------------------------------------------------\n",
    "# Set full file path name\n",
    "#------------------------------------------------\n",
    "folder_name = 'C:/Users/jrwel/Documents/Udemy/Python Mega Course/Data/App01-Thesaurus/'\n",
    "file_name = 'data.json'\n",
    "json_file = folder_name + file_name"
   ]
  },
  {
   "cell_type": "code",
   "execution_count": 5,
   "metadata": {},
   "outputs": [],
   "source": [
    "data = json.load(open(json_file))"
   ]
  },
  {
   "cell_type": "code",
   "execution_count": 6,
   "metadata": {},
   "outputs": [
    {
     "name": "stdout",
     "output_type": "stream",
     "text": [
      "<class 'dict'>\n"
     ]
    }
   ],
   "source": [
    "print(type(data))"
   ]
  },
  {
   "cell_type": "code",
   "execution_count": 7,
   "metadata": {},
   "outputs": [],
   "source": [
    "#print(data)"
   ]
  },
  {
   "cell_type": "code",
   "execution_count": 8,
   "metadata": {},
   "outputs": [
    {
     "data": {
      "text/plain": [
       "['Precipitation in the form of liquid water drops with diameters greater than 0.5 millimetres.',\n",
       " 'To fall from the clouds in drops of water.']"
      ]
     },
     "execution_count": 8,
     "metadata": {},
     "output_type": "execute_result"
    }
   ],
   "source": [
    "data['rain']"
   ]
  },
  {
   "cell_type": "code",
   "execution_count": 9,
   "metadata": {},
   "outputs": [],
   "source": [
    "def search_word(word_in, dictionary_in):\n",
    "    word_in = word_in.lower()\n",
    "    if word_in in dictionary_in:\n",
    "        definition = dictionary_in[word_in]\n",
    "        return definition\n",
    "    else:\n",
    "        definition = 'This word ' + word_in + ' was not found in the supplied dictionary'\n",
    "        return definition"
   ]
  },
  {
   "cell_type": "code",
   "execution_count": 10,
   "metadata": {},
   "outputs": [
    {
     "name": "stdout",
     "output_type": "stream",
     "text": [
      "['Precipitation in the form of liquid water drops with diameters greater than 0.5 millimetres.', 'To fall from the clouds in drops of water.']\n"
     ]
    }
   ],
   "source": [
    "print(search_word('Rain', data))"
   ]
  },
  {
   "cell_type": "code",
   "execution_count": 11,
   "metadata": {},
   "outputs": [
    {
     "name": "stdout",
     "output_type": "stream",
     "text": [
      "Enter Word: xtz\n",
      "This word xtz was not found in the supplied dictionary\n"
     ]
    }
   ],
   "source": [
    "word = input(\"Enter Word: \")\n",
    "print(search_word(word,data))"
   ]
  },
  {
   "cell_type": "code",
   "execution_count": 13,
   "metadata": {},
   "outputs": [
    {
     "data": {
      "text/plain": [
       "0.8888888888888888"
      ]
     },
     "execution_count": 13,
     "metadata": {},
     "output_type": "execute_result"
    }
   ],
   "source": [
    "#------------------------------------------------------------\n",
    "# Get similarity vale between two strings: SequenceMatcher\n",
    "#-------------------------------------------------------------\n",
    "import difflib\n",
    "from difflib import SequenceMatcher\n",
    "SequenceMatcher(None, 'rain', 'rainn').ratio()"
   ]
  },
  {
   "cell_type": "code",
   "execution_count": 14,
   "metadata": {},
   "outputs": [
    {
     "name": "stdout",
     "output_type": "stream",
     "text": [
      "Help on function get_close_matches in module difflib:\n",
      "\n",
      "get_close_matches(word, possibilities, n=3, cutoff=0.6)\n",
      "    Use SequenceMatcher to return list of the best \"good enough\" matches.\n",
      "    \n",
      "    word is a sequence for which close matches are desired (typically a\n",
      "    string).\n",
      "    \n",
      "    possibilities is a list of sequences against which to match word\n",
      "    (typically a list of strings).\n",
      "    \n",
      "    Optional arg n (default 3) is the maximum number of close matches to\n",
      "    return.  n must be > 0.\n",
      "    \n",
      "    Optional arg cutoff (default 0.6) is a float in [0, 1].  Possibilities\n",
      "    that don't score at least that similar to word are ignored.\n",
      "    \n",
      "    The best (no more than n) matches among the possibilities are returned\n",
      "    in a list, sorted by similarity score, most similar first.\n",
      "    \n",
      "    >>> get_close_matches(\"appel\", [\"ape\", \"apple\", \"peach\", \"puppy\"])\n",
      "    ['apple', 'ape']\n",
      "    >>> import keyword as _keyword\n",
      "    >>> get_close_matches(\"wheel\", _keyword.kwlist)\n",
      "    ['while']\n",
      "    >>> get_close_matches(\"Apple\", _keyword.kwlist)\n",
      "    []\n",
      "    >>> get_close_matches(\"accept\", _keyword.kwlist)\n",
      "    ['except']\n",
      "\n"
     ]
    }
   ],
   "source": [
    "from difflib import get_close_matches\n",
    "help(get_close_matches)"
   ]
  },
  {
   "cell_type": "code",
   "execution_count": 15,
   "metadata": {},
   "outputs": [
    {
     "data": {
      "text/plain": [
       "['rain']"
      ]
     },
     "execution_count": 15,
     "metadata": {},
     "output_type": "execute_result"
    }
   ],
   "source": [
    "get_close_matches('rainn', ['help', 'pyramid', 'rain'])"
   ]
  },
  {
   "cell_type": "code",
   "execution_count": 16,
   "metadata": {},
   "outputs": [],
   "source": [
    "#data.keys()"
   ]
  },
  {
   "cell_type": "code",
   "execution_count": 17,
   "metadata": {},
   "outputs": [
    {
     "data": {
      "text/plain": [
       "['rain', 'train', 'rainy', 'grain', 'drain']"
      ]
     },
     "execution_count": 17,
     "metadata": {},
     "output_type": "execute_result"
    }
   ],
   "source": [
    "get_close_matches('rainn', data.keys(), n = 5)"
   ]
  },
  {
   "cell_type": "code",
   "execution_count": 18,
   "metadata": {},
   "outputs": [
    {
     "data": {
      "text/plain": [
       "'rain'"
      ]
     },
     "execution_count": 18,
     "metadata": {},
     "output_type": "execute_result"
    }
   ],
   "source": [
    "#----------------------------------------------------------------\n",
    "# Get only the first close match word from the list\n",
    "#----------------------------------------------------------------\n",
    "get_close_matches('rainn', data.keys())[0]"
   ]
  },
  {
   "cell_type": "code",
   "execution_count": 19,
   "metadata": {},
   "outputs": [
    {
     "data": {
      "text/plain": [
       "['rain']"
      ]
     },
     "execution_count": 19,
     "metadata": {},
     "output_type": "execute_result"
    }
   ],
   "source": [
    "get_close_matches('rainn', data.keys(), cutoff = 0.85, n = 5)"
   ]
  },
  {
   "cell_type": "code",
   "execution_count": 32,
   "metadata": {},
   "outputs": [],
   "source": [
    "#-----------------------------------------------------\n",
    "#  Add Fuzzy search logic to the function\n",
    "#-----------------------------------------------------\n",
    "def search_word_fuzzy(word_in, dictionary_in):\n",
    "    word_in = word_in.lower()\n",
    "    if word_in in dictionary_in:\n",
    "        definition = dictionary_in[word_in]\n",
    "        return definition\n",
    "    elif len(get_close_matches(word_in, dictionary_in.keys(), cutoff = 0.8, n = 3)) > 0:\n",
    "        close_word = get_close_matches(word_in, dictionary_in.keys())[0]\n",
    "        definition = 'Did you mean (' + close_word + ') instead of ' + word +'?  Enter Y if yes, N if no: '\n",
    "#       definition = 'Did you mean %s instead?' % close_word\n",
    "        yn = input (definition)\n",
    "        yn = yn.upper()\n",
    "        if yn == 'Y':\n",
    "            definition = dictionary_in[close_word]\n",
    "            return definition\n",
    "        elif yn == 'N':\n",
    "            definition = 'This word (' + word_in + ') was not found in the supplied dictionary. Please re-enter'\n",
    "            return definition\n",
    "        else:\n",
    "            definition = 'Please enter either Y or N. Please re-enter'\n",
    "            return definition\n",
    "    else:\n",
    "        definition = 'This word (' + word_in + ') was not found in the supplied dictionary. Please re-enter'\n",
    "        return definition"
   ]
  },
  {
   "cell_type": "code",
   "execution_count": 27,
   "metadata": {},
   "outputs": [
    {
     "name": "stdout",
     "output_type": "stream",
     "text": [
      "Enter Word: rainn\n",
      "Did you mean (rain) instead of rainn?  Enter Y if yes, N if noy\n",
      "['Precipitation in the form of liquid water drops with diameters greater than 0.5 millimetres.', 'To fall from the clouds in drops of water.']\n"
     ]
    }
   ],
   "source": [
    "word = input(\"Enter Word: \")\n",
    "print(search_word_fuzzy(word,data))"
   ]
  },
  {
   "cell_type": "code",
   "execution_count": 23,
   "metadata": {},
   "outputs": [
    {
     "data": {
      "text/plain": [
       "True"
      ]
     },
     "execution_count": 23,
     "metadata": {},
     "output_type": "execute_result"
    }
   ],
   "source": [
    "len(get_close_matches('rainn', data.keys(), cutoff = 0.8, n = 3)) > 0"
   ]
  },
  {
   "cell_type": "markdown",
   "metadata": {},
   "source": [
    "#### Formatting the output"
   ]
  },
  {
   "cell_type": "code",
   "execution_count": 35,
   "metadata": {},
   "outputs": [
    {
     "name": "stdout",
     "output_type": "stream",
     "text": [
      "Enter Word: rainn\n",
      "Did you mean (rain) instead of rainn?  Enter Y if yes, N if no: n\n",
      "This word (rainn) was not found in the supplied dictionary. Please re-enter\n"
     ]
    }
   ],
   "source": [
    "word = input(\"Enter Word: \")\n",
    "output = search_word_fuzzy(word, data)\n",
    "\n",
    "if type(output) == list:\n",
    "    for item in output:\n",
    "        print (item)\n",
    "else:\n",
    "    print (output)"
   ]
  },
  {
   "cell_type": "code",
   "execution_count": 39,
   "metadata": {},
   "outputs": [
    {
     "name": "stdout",
     "output_type": "stream",
     "text": [
      "Delhi\n"
     ]
    }
   ],
   "source": [
    "yn = 'delhi'.title()\n",
    "print (yn)"
   ]
  },
  {
   "cell_type": "code",
   "execution_count": 46,
   "metadata": {},
   "outputs": [],
   "source": [
    "#-----------------------------------------------------\n",
    "#  Add Fuzzy search logic to the function\n",
    "#\n",
    "#   Revision 1: Allow to fijd proper nouns like Delhi or Paris\n",
    "#\n",
    "#   Revision 2: Allow to return acronyms like NATO or USA\n",
    "#\n",
    "#   Revision 3:\n",
    "#-----------------------------------------------------\n",
    "def search_word_revised(word_in, dictionary_in):\n",
    "    word_in = word_in.lower()\n",
    "    if word_in in dictionary_in:\n",
    "        definition = dictionary_in[word_in]\n",
    "        return definition\n",
    "    elif word_in.title() in dictionary_in:              # Revision 1\n",
    "        definition = dictionary_in[word_in.title()]     # Revision 1\n",
    "        return definition                               # Revision 1\n",
    "    elif word_in.upper() in dictionary_in:              # Revision 2\n",
    "        definition = dictionary_in[word_in.upper()]     # Revision 2\n",
    "        return definition                               # Revision 2\n",
    "    elif len(get_close_matches(word_in, dictionary_in.keys(), cutoff = 0.8, n = 3)) > 0:\n",
    "        close_word = get_close_matches(word_in, dictionary_in.keys())[0]\n",
    "        definition = 'Did you mean (' + close_word + ') instead of ' + word +'?  Enter Y if yes, N if no: '\n",
    "#       definition = 'Did you mean %s instead?' % close_word\n",
    "        yn = input (definition)\n",
    "        yn = yn.upper()\n",
    "        if yn == 'Y':\n",
    "            definition = dictionary_in[close_word]\n",
    "            return definition\n",
    "        elif yn == 'N':\n",
    "            definition = 'This word (' + word_in + ') was not found in the supplied dictionary. Please re-enter'\n",
    "            return definition\n",
    "        else:\n",
    "            definition = 'Please enter either Y or N. Please re-enter'\n",
    "            return definition\n",
    "    else:\n",
    "        definition = 'This word (' + word_in + ') was not found in the supplied dictionary. Please re-enter'\n",
    "        return definition"
   ]
  },
  {
   "cell_type": "code",
   "execution_count": 47,
   "metadata": {},
   "outputs": [
    {
     "name": "stdout",
     "output_type": "stream",
     "text": [
      "Enter Word: NATO\n",
      "An international organization created in 1949 by the North Atlantic Treaty for purposes of collective security.\n"
     ]
    }
   ],
   "source": [
    "word = input(\"Enter Word: \")\n",
    "output = search_word_revised(word, data)\n",
    "\n",
    "if type(output) == list:\n",
    "    for item in output:\n",
    "        print (item)\n",
    "else:\n",
    "    print (output)"
   ]
  },
  {
   "cell_type": "markdown",
   "metadata": {},
   "source": []
  },
  {
   "cell_type": "code",
   "execution_count": null,
   "metadata": {},
   "outputs": [],
   "source": []
  },
  {
   "cell_type": "code",
   "execution_count": null,
   "metadata": {},
   "outputs": [],
   "source": []
  },
  {
   "cell_type": "code",
   "execution_count": null,
   "metadata": {},
   "outputs": [],
   "source": []
  },
  {
   "cell_type": "code",
   "execution_count": null,
   "metadata": {},
   "outputs": [],
   "source": []
  },
  {
   "cell_type": "code",
   "execution_count": null,
   "metadata": {},
   "outputs": [],
   "source": []
  }
 ],
 "metadata": {
  "kernelspec": {
   "display_name": "Python 3",
   "language": "python",
   "name": "python3"
  },
  "language_info": {
   "codemirror_mode": {
    "name": "ipython",
    "version": 3
   },
   "file_extension": ".py",
   "mimetype": "text/x-python",
   "name": "python",
   "nbconvert_exporter": "python",
   "pygments_lexer": "ipython3",
   "version": "3.8.3"
  }
 },
 "nbformat": 4,
 "nbformat_minor": 4
}
