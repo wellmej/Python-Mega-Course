{
 "cells": [
  {
   "cell_type": "markdown",
   "metadata": {},
   "source": [
    "### Graphical User Interface Application\n",
    "\n",
    "#### Building a GUI with tkinter"
   ]
  },
  {
   "cell_type": "code",
   "execution_count": 1,
   "metadata": {},
   "outputs": [],
   "source": [
    "#--------------------------------------------\n",
    "# Import the applicable libraries\n",
    "#--------------------------------------------\n",
    "\n",
    "from tkinter import *  # Load all tkinter libraries"
   ]
  },
  {
   "cell_type": "code",
   "execution_count": 8,
   "metadata": {},
   "outputs": [],
   "source": []
  },
  {
   "cell_type": "code",
   "execution_count": 9,
   "metadata": {},
   "outputs": [
    {
     "name": "stdout",
     "output_type": "stream",
     "text": [
      "Success!\n",
      "Success!\n"
     ]
    }
   ],
   "source": [
    "#---------------------------------------------------#---\n",
    "#  This code below is practice code set up to\n",
    "#  help display and debug when working with tkinte#r\n",
    "#-----------------------------------------------------\n",
    "\n",
    "\n",
    "#def km_to_miles():\n",
    "#    print (\"Success!\")\n",
    "\n",
    "    \n",
    "#window=Tk()  # Create empty window\n",
    "\n",
    "# \n",
    "# Button 1 \"Execute\"\n",
    "#b1=Button(window, text=\"Execute\", command=km_to_miles)  # Define a button (b1) with label \"Execute\"\n",
    "##b1.pack() # Display button centered in window. Not used very often\n",
    "#b1.grid(row=0,column=0)  # Display button on grid corrdinate (0,0)\n",
    "\n",
    "# \n",
    "# Entry Window 1\n",
    "#e1_value=StringVar()\n",
    "#e1=Entry(window,textvariable=e1_value)  # Define a entry area (e1) next to label \"Execute\"\n",
    "#e1.grid(row=0,column=1)  # Display entry prompt on grid corrdinate (0,1)\n",
    "\n",
    "# \n",
    "# Text Window 1\n",
    "#t1=Text(window, height=1, width=20)  # Define a text area (t1)\n",
    "#t1.grid(row=0,column=2)  # Display text box on grid corrdinate (0,2)\n",
    "\n",
    "\n",
    "#window.mainloop()  # window remains open until \"X\" corner is clicked"
   ]
  },
  {
   "cell_type": "code",
   "execution_count": 12,
   "metadata": {},
   "outputs": [
    {
     "name": "stdout",
     "output_type": "stream",
     "text": [
      "10\n"
     ]
    }
   ],
   "source": [
    "#------------------------------------------------------\n",
    "#  This is full blown operational code to\n",
    "#  interface and work with tkinter\n",
    "#-----------------------------------------------------\n",
    "\n",
    "def km_to_miles():\n",
    "#    print (e1_value.get()) # Used only for debugging\n",
    "    miles = float(e1_value.get()) * 1.6\n",
    "    t1.insert(END, miles)\n",
    "\n",
    "\n",
    "window=Tk()  # Create empty window\n",
    "\n",
    "# \n",
    "# Button 1 \"Execute\"\n",
    "b1=Button(window, text=\"Execute\", command=km_to_miles)  # Define a button (b1) with label \"Execute\"\n",
    "b1.grid(row=0,column=0)  # Display button on grid corrdinate (0,0)\n",
    "\n",
    "# \n",
    "# Entry Window 1\n",
    "e1_value=StringVar()\n",
    "e1=Entry(window,textvariable=e1_value)  # Define a entry area (e1) next to label \"Execute\"\n",
    "e1.grid(row=0,column=1)  # Display entry prompt on grid corrdinate (0,1)\n",
    "\n",
    "# \n",
    "# Text Window 1\n",
    "t1=Text(window, height=1, width=20)  # Define a text area (t1)\n",
    "t1.grid(row=0,column=2)  # Display text box on grid corrdinate (0,2)\n",
    "\n",
    "\n",
    "window.mainloop()  # window remains open until \"X\" corner is clicked"
   ]
  },
  {
   "cell_type": "code",
   "execution_count": 17,
   "metadata": {},
   "outputs": [],
   "source": [
    "#-----------------------------------------------------------\n",
    "#  This is full blown operational code to\n",
    "#  interface and work with tkinter\n",
    "#\n",
    "#  Note: This window is for the tkinter practice exercise\n",
    "#\n",
    "#-----------------------------------------------------------\n",
    "\n",
    "def kg_to_g_lbs_oz():\n",
    "#    print (e_kg_value.get()) # Used only for debugging\n",
    "    grams = float(e_kg_value.get()) * 1000\n",
    "    t_grams.insert(END, grams)\n",
    "\n",
    "    pounds = float(e_kg_value.get()) * 2.20462\n",
    "    t_pounds.insert(END, pounds)\n",
    "\n",
    "    ounces = float(e_kg_value.get()) * 35.274\n",
    "    t_ounces.insert(END, ounces)\n",
    "\n",
    "\n",
    "window=Tk()  # Create empty window\n",
    "\n",
    "# \n",
    "# Label \"kg\" (Static)\n",
    "l_kg=Label(window, height=1, width=20, text=\"Kg\")\n",
    "l_kg.grid(row=0,column=0)\n",
    "\n",
    "# \n",
    "# Button 1 \"Convert\"\n",
    "b_convert=Button(window, text=\"Convert\", command=kg_to_g_lbs_oz)  # Define a button (b1) with label \"Execute\"\n",
    "b_convert.grid(row=0,column=2)  # Display button on grid corrdinate (0,0)\n",
    "\n",
    "# \n",
    "# Entry Window 1\n",
    "e_kg_value=StringVar()\n",
    "e_kg=Entry(window, textvariable=e_kg_value)  # Define a entry area (e1) next to label \"Execute\"\n",
    "e_kg.grid(row=0, column=1)  # Display entry prompt on grid corrdinate (0,1)\n",
    "\n",
    "# \n",
    "# Text Window \"grams\"\n",
    "t_grams=Text(window, height=1, width=20)\n",
    "t_grams.grid(row=1,column=0)\n",
    "\n",
    "# \n",
    "# Text Window \"pounds\"\n",
    "t_pounds=Text(window, height=1, width=20)\n",
    "t_pounds.grid(row=1,column=1)\n",
    "\n",
    "# \n",
    "# Text Window \"ounces\"\n",
    "t_ounces=Text(window, height=1, width=20)\n",
    "t_ounces.grid(row=1,column=2)\n",
    "\n",
    "\n",
    "window.mainloop()  # window remains open until \"X\" corner is clicked"
   ]
  },
  {
   "cell_type": "code",
   "execution_count": null,
   "metadata": {},
   "outputs": [],
   "source": []
  },
  {
   "cell_type": "code",
   "execution_count": null,
   "metadata": {},
   "outputs": [],
   "source": []
  },
  {
   "cell_type": "code",
   "execution_count": null,
   "metadata": {},
   "outputs": [],
   "source": []
  },
  {
   "cell_type": "code",
   "execution_count": null,
   "metadata": {},
   "outputs": [],
   "source": []
  },
  {
   "cell_type": "code",
   "execution_count": null,
   "metadata": {},
   "outputs": [],
   "source": []
  }
 ],
 "metadata": {
  "kernelspec": {
   "display_name": "Python 3",
   "language": "python",
   "name": "python3"
  },
  "language_info": {
   "codemirror_mode": {
    "name": "ipython",
    "version": 3
   },
   "file_extension": ".py",
   "mimetype": "text/x-python",
   "name": "python",
   "nbconvert_exporter": "python",
   "pygments_lexer": "ipython3",
   "version": "3.8.3"
  }
 },
 "nbformat": 4,
 "nbformat_minor": 4
}
